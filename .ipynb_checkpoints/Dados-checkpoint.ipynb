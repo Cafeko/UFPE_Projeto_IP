{
 "cells": [
  {
   "cell_type": "code",
   "execution_count": 1,
   "metadata": {
    "id": "9U0c78l-VJUi"
   },
   "outputs": [],
   "source": [
    "import pandas as pd"
   ]
  },
  {
   "cell_type": "markdown",
   "metadata": {},
   "source": [
    "DataFrames:"
   ]
  },
  {
   "cell_type": "code",
   "execution_count": 19,
   "metadata": {},
   "outputs": [],
   "source": [
    "df22 = pd.read_csv('https://dados.ufpe.br/dataset/cba99924-ad97-45f6-9d1c-f4fb7a940c6f/resource/3ec70513-eca6-453d-95d1-fde1f1972a11/download/discentes-2022-ufpe.csv') \n",
    "df21 = pd.read_csv('https://dados.ufpe.br/dataset/cba99924-ad97-45f6-9d1c-f4fb7a940c6f/resource/3b4468e4-1f72-49c1-bbf3-5d71216b85e5/download/discentes-ingressos-cursos-graduacao-2021-ufpe.csv')"
   ]
  },
  {
   "cell_type": "markdown",
   "metadata": {},
   "source": [
    "Area e cursos:"
   ]
  },
  {
   "cell_type": "code",
   "execution_count": 21,
   "metadata": {},
   "outputs": [],
   "source": [
    "cursos_areas = {\"HUMANAS\":['TURISMO', 'TEATRO', 'PSICOLOGIA', 'MUSICA - CANTO', 'MUSEOLOGIA', 'LETRAS PORTUGUÊS - LICENCIATURA', 'LETRAS ESPANHOL - LICENCIATURA', 'LETRAS - BACHARELADO', 'HISTÓRIA - BACHARELADO', 'DIREITO', \"ADMINISTRAÇÃO -CAA\", 'ADMINISTRAÇÃO', 'ARTES VISUAIS', \"COMUNICAÇÃO SOCIAL - CAA\", \"DESIGN - CAA\", 'ARQUEOLOGIA', 'ARTES VISUAIS - BACHARELADO', 'BIBLIOTECONOMIA',  'CIÊNCIA POLÍTICA', 'CIÊNCIAS SOCIAIS - BACHARELADO', 'CIÊNCIAS SOCIAIS - LICENCIATURA', 'CINEMA E AUDIOVISUAL', 'DANÇA',  'HISTÓRIA - LICENCIATURA', 'FILOSOFIA-LICENCIATURA', 'EXPRESSÃO GRÁFICA', 'FILOSOFIA-BACHARELADO', 'GEOGRAFIA - BACHARELADO', 'GEOGRAFIA - LICENCIATURA', 'JORNALISMO', 'LETRAS FRANCÊS - LICENCIATURA', 'MUSICA - INSTRUMENTO', 'MUSICA - LICENCIATURA', 'PEDAGOGIA', 'DESIGN', 'SERVIÇO SOCIAL', 'SECRETARIADO EXECUTIVO', \"PEDAGOGIA - CAA\"], \n",
    "                \"EXATAS\":['GESTÃO DA INFORMAÇÃO', 'OCEANOGRAFIA', 'MATEMÁTICA - BACHARELADO', 'ENGENHARIA QUÍMICA', 'ENGENHARIA DE ALIMENTOS', 'ENGENHARIA CIVIL', 'GEOLOGIA', \"ARQUITETURA E URBANISMO\", 'CIÊNCIAS ATUARIAIS', 'ABI - ENGENHARIA','CIÊNCIA DA COMPUTAÇÃO - CIN', 'CIÊNCIAS CONTABEIS', 'CIÊNCIAS ECONÔMICAS', 'ENGENHARIA CARTOGRÁFICA E DE AGRIMENSURA', \"CIÊNCIAS ECONÔMICAS - CAA\", 'ENGENHARIA BIOMÉDICA', 'ENGENHARIA DE CONTROLE E AUTOMAÇÃO', \"ENGENHARIA CIVIL - CAA\", 'ENGENHARIA DE ENERGIA', 'ENGENHARIA DE MATERIAIS', 'ENGENHARIA DE MINAS', 'ENGENHARIA DE PRODUÇÃO', \"ENGENHARIA DE PRODUÇÃO - CAA\", 'ENGENHARIA ELÉTRICA', 'QUÍMICA - LICENCIATURA', 'SISTEMAS DE INFORMAÇÃO', 'ESTATÍSTICA', 'QUÍMICA - BACHARELADO', 'ENGENHARIA ELETRÔNICA', 'ENGENHARIA DA COMPUTAÇÃO', \"MATEMÁTICA - LICENCIATURA - CAA\", \"QUÍMICA - LICENCIATURA - CAA\", 'FÍSICA - BACHARELADO', 'FÍSICA - LICENCIATURA', \"FÍSICA - LICENCIATURA - CAA\",'QUÍMICA INDUSTRIAL','MATEMÁTICA - LICENCIATURA'], \n",
    "                \"SAUDE\": ['NUTRIÇÃO - CAV', 'ENFERMAGEM - CAV', 'EDUCAÇÃO FÍSICA-BACHARELADO-CAV', 'TERAPIA OCUPACIONAL', 'ODONTOLOGIA', 'NUTRIÇÃO', 'MEDICINA', 'ENFERMAGEM', 'EDUCAÇÃO FÍSICA - BACHARELADO', 'EDUCAÇÃO FÍSICA', 'BIOMEDICINA', 'CIÊNCIAS BIOLÓGICAS - BACHARELADO', 'CIÊNCIAS BIOLÓGICAS - LICENCIATURA', 'CIÊNCIAS BIOLÓGICAS- ÊNFASE C. AMBIENTAIS', 'FISIOTERAPIA', 'EDUCAÇÃO FÍSICA - LICENCIATURA - CAV', \"FARMACIA\", 'FONOAUDIOLOGIA', \"MEDICINA - CAA\", 'CIÊNCIAS BIOLÓGICAS - CAV', 'CIÊNCIAS BIOLÓGICAS-LICENCIATURA-EAD','SAÚDE COLETIVA - CAV']}"
   ]
  }
 ],
 "metadata": {
  "colab": {
   "collapsed_sections": [],
   "provenance": []
  },
  "kernelspec": {
   "display_name": "Python 3 (ipykernel)",
   "language": "python",
   "name": "python3"
  },
  "language_info": {
   "codemirror_mode": {
    "name": "ipython",
    "version": 3
   },
   "file_extension": ".py",
   "mimetype": "text/x-python",
   "name": "python",
   "nbconvert_exporter": "python",
   "pygments_lexer": "ipython3",
   "version": "3.9.12"
  },
  "vscode": {
   "interpreter": {
    "hash": "86acdf75a508cfa60e075b0d9385d163a56afbcdebb723ce6883e07378b3134e"
   }
  }
 },
 "nbformat": 4,
 "nbformat_minor": 1
}
