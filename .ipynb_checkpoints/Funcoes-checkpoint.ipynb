{
 "cells": [
  {
   "cell_type": "markdown",
   "id": "9316873b",
   "metadata": {},
   "source": [
    "# Funções"
   ]
  },
  {
   "cell_type": "markdown",
   "id": "1e021db8",
   "metadata": {},
   "source": [
    "Importa bibliotecas:"
   ]
  },
  {
   "cell_type": "code",
   "execution_count": 2,
   "id": "0c4f1abf",
   "metadata": {},
   "outputs": [],
   "source": [
    "import pandas as pd\n",
    "import numpy as np\n",
    "from sklearn import preprocessing"
   ]
  },
  {
   "cell_type": "markdown",
   "id": "5c50df3a",
   "metadata": {},
   "source": [
    "Cria colunas:"
   ]
  },
  {
   "cell_type": "code",
   "execution_count": 17,
   "id": "d6103531",
   "metadata": {},
   "outputs": [],
   "source": [
    "# -------------------------------------------------------------------- #\n",
    "# Recebe um valor de string e retorna um int, de acordo com um dicionário;\n",
    "# se o valor não foor uma chave do dicionário ele se torna \"none\".\n",
    "# valor = valor que será transformado\n",
    "# dicio = dicionario que indica os valores e seus resultados\n",
    "\n",
    "def ValoresStringInt(valor, dicio):\n",
    "    for k in dicio.keys():\n",
    "        if valor == k:\n",
    "            return dicio[k]\n",
    "    return \"none\"\n",
    "# -------------------------------------------------------------------- #\n",
    "\n",
    "# ------------------------------------------------------------------------------------ #\n",
    "# Recebe uma coluna de string e retorna uma coluna de int, de acordo com um dicionário;\n",
    "# se ocorrer algum erro a coluna que será retornada é igual a recebida.\n",
    "# coluna = Coluna que será transformada\n",
    "# dicio = dicionario que indica os valores e seus resultados\n",
    "\n",
    "def ColunaStringInt(coluna, dicio):\n",
    "    try:\n",
    "        lista = []\n",
    "        for v in coluna:\n",
    "            lista.append(ValoresStringInt(v, dicio))\n",
    "        s = pd.Series(data=lista)\n",
    "        return s\n",
    "    except:\n",
    "        print(\"Erro\")\n",
    "        return coluna\n",
    "# ------------------------------------------------------------------------------------ #"
   ]
  },
  {
   "cell_type": "markdown",
   "id": "4c6b4f3b",
   "metadata": {},
   "source": [
    "Remove colunas:"
   ]
  },
  {
   "cell_type": "code",
   "execution_count": 9,
   "id": "4b4588ad",
   "metadata": {},
   "outputs": [],
   "source": [
    "# ------------------------------------------------------- #\n",
    "# Remove as colunas listadas de um dataframe e o retorna;\n",
    "# se ocorrer algum erro o dataframe que será retornado é igual ao recebido.\n",
    "# df = dataframe\n",
    "# c_lista = lita com o name das colunas a ser removidas do dataframe\n",
    "\n",
    "def RemoveColunasLista(df, c_lista):\n",
    "    df_copia = df \n",
    "    try:\n",
    "        for c in c_lista:\n",
    "            df_copia.drop(c, axis=1, inplace=True)\n",
    "        return df_copia\n",
    "    except:\n",
    "        print(\"Erro\")\n",
    "        return df\n",
    "# ------------------------------------------------------- #"
   ]
  }
 ],
 "metadata": {
  "kernelspec": {
   "display_name": "Python 3 (ipykernel)",
   "language": "python",
   "name": "python3"
  },
  "language_info": {
   "codemirror_mode": {
    "name": "ipython",
    "version": 3
   },
   "file_extension": ".py",
   "mimetype": "text/x-python",
   "name": "python",
   "nbconvert_exporter": "python",
   "pygments_lexer": "ipython3",
   "version": "3.9.12"
  }
 },
 "nbformat": 4,
 "nbformat_minor": 5
}
