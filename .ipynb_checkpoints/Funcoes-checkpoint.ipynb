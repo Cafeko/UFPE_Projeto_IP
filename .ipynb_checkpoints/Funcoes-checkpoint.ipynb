{
 "cells": [
  {
   "cell_type": "markdown",
   "id": "9316873b",
   "metadata": {},
   "source": [
    "# Funções"
   ]
  },
  {
   "cell_type": "markdown",
   "id": "1e021db8",
   "metadata": {},
   "source": [
    "Importar bibliotecas:"
   ]
  },
  {
   "cell_type": "code",
   "execution_count": 1,
   "id": "0c4f1abf",
   "metadata": {},
   "outputs": [],
   "source": [
    "import pandas as pd\n",
    "import numpy as np\n",
    "from sklearn import preprocessing"
   ]
  },
  {
   "cell_type": "markdown",
   "id": "bf795766",
   "metadata": {},
   "source": [
    "Remove colunas:"
   ]
  },
  {
   "cell_type": "code",
   "execution_count": 8,
   "id": "53145143",
   "metadata": {},
   "outputs": [],
   "source": [
    "# ------------------------------------------------------- #\n",
    "# Remove as colunas listadas de um dataframe e o retorna;\n",
    "# se ocorrer algum erro o data frame que será retornado é igual ao recebido.\n",
    "# df = dataframe\n",
    "# c_lista = lita com o name das colunas a ser removidas do dataframe\n",
    "\n",
    "def RemoveColunas(df, colunas):\n",
    "    df_copia = df\n",
    "    try:\n",
    "        if type(colunas) == list:\n",
    "            for c in colunas:\n",
    "                df_copia.drop(c, axis=1, inplace=True)\n",
    "        elif type(colunas) == str:\n",
    "            df_copia.drop(colunas, axis=1, inplace=True)\n",
    "        return df_copia\n",
    "    except:\n",
    "        print(\"Erro\")\n",
    "        return df\n",
    "# ------------------------------------------------------- #"
   ]
  },
  {
   "cell_type": "markdown",
   "id": "5c50df3a",
   "metadata": {},
   "source": [
    "Coluna de string para int:"
   ]
  },
  {
   "cell_type": "code",
   "execution_count": 3,
   "id": "d6103531",
   "metadata": {},
   "outputs": [],
   "source": [
    "# -------------------------------------------------------------------- #\n",
    "# Recebe um valor de string e retorna um int, de acordo com um dicionário;\n",
    "# se o valor não for uma chave do dicionário ele se torna \"none\".\n",
    "# valor = valor que será transformado\n",
    "# dicio = dicionario que indica os valores e seus resultados\n",
    "# valor_fora = valor atribuido caso o valor não esteja no dicionario \n",
    "\n",
    "def ValoresStrInt(valor, dicio, valor_fora):\n",
    "    for k in dicio.keys():\n",
    "        if valor == k:\n",
    "            return dicio[k]\n",
    "    return valor_fora\n",
    "# -------------------------------------------------------------------- #\n",
    "\n",
    "# ------------------------------------------------------------------------------------ #\n",
    "# Recebe uma coluna de string e retorna uma coluna de int, de acordo com um dicionário;\n",
    "# se ocorrer algum erro a coluna que será retornada é igual a recebida.\n",
    "# coluna = Coluna que será transformada\n",
    "# dicio = dicionario que indica os valores e seus resultados\n",
    "# valor_fora = valor atribuido caso o valor não esteja no dicionario\n",
    "\n",
    "def ColunaStrInt(coluna, dicio, valor_fora = \"none\"):\n",
    "    try:\n",
    "        lista = []\n",
    "        for v in coluna:\n",
    "            lista.append(ValoresStrInt(v, dicio, valor_fora))\n",
    "        s = pd.Series(data=lista)\n",
    "        return s\n",
    "    except:\n",
    "        print(\"Erro\")\n",
    "        return coluna\n",
    "# ------------------------------------------------------------------------------------ #"
   ]
  },
  {
   "cell_type": "markdown",
   "id": "2c8ff963",
   "metadata": {},
   "source": [
    "Automatico de string para int:"
   ]
  },
  {
   "cell_type": "code",
   "execution_count": 4,
   "id": "8ce3036c",
   "metadata": {},
   "outputs": [],
   "source": [
    "# ------------------------------------------------------------------------------------------------- #\n",
    "# Recebe uma coluna de string e retorna uma coluna de int, mas os valores não podem ser escolhidos;\n",
    "# col = Coluna\n",
    "\n",
    "def AutoColunaStrInt(col):\n",
    "    le = preprocessing.LabelEncoder()\n",
    "    le.fit(col)\n",
    "    nova_col = le.transform(col)\n",
    "    return nova_col\n",
    "# ------------------------------------------------------------------------------------------------- #\n",
    "\n",
    "# ---------------------------------------------------------------------------------------------------------------- #\n",
    "# Recebe um data frame e aplica o metodo \"AutoColunaStringInt\" nas colunas do data frame; \n",
    "# retorna o data frame transformado de string para int.\n",
    "# Se ocorrer algum erro o data frame que será retornado é igual ao recebido.\n",
    "# df = data frame que será transformado\n",
    "\n",
    "def AutoColunasStrInt(df):\n",
    "    df_copia = df\n",
    "    try:\n",
    "        for c_nome in df_copia:\n",
    "            df_copia[c_nome] = AutoColunaStrInt(df_copia[c_nome])\n",
    "        return df_copia\n",
    "    except:\n",
    "        print(\"Erro\")\n",
    "        return df\n",
    "# --------------------------------------------------------------------------------------------------------------------- #\n",
    "\n",
    "# ------------------------------------------------------------------ #\n",
    "# Recebe um data frame e uma lista de strings com o nome de colunas;\n",
    "# As colunas do data frame cujos nome estão na lista serão usadas para criar novas colunas com valores numéricos;\n",
    "# O novo data frame com as colunas normais e as numéricas é retornado.\n",
    "# # se ocorrer algum erro a coluna que será retornada é igual a recebida.\n",
    "# df = Data frame\n",
    "# col_list = Lista com o nome das colunas\n",
    "\n",
    "def Colunas_num(df, col_list):\n",
    "    df_copia = df\n",
    "    try:\n",
    "        parte_df = pd.DataFrame()\n",
    "        novo_df = df_copia\n",
    "\n",
    "        parte_df = ParteDataFrame(df_copia, col_list)\n",
    "        parte_df = AutoColunasStrInt(parte_df)\n",
    "\n",
    "        for col_nome in parte_df:\n",
    "            novo_df[col_nome + \"_num\"] = parte_df[col_nome]\n",
    "\n",
    "        return novo_df\n",
    "    except:\n",
    "        print(\"Erro\")\n",
    "        return df\n",
    "# ------------------------------------------------------------------ #"
   ]
  },
  {
   "cell_type": "markdown",
   "id": "9bbda0a4",
   "metadata": {},
   "source": [
    "Divide data frames:"
   ]
  },
  {
   "cell_type": "code",
   "execution_count": 5,
   "id": "8ad2d8f7",
   "metadata": {},
   "outputs": [],
   "source": [
    "# ------------------------------------------------------------------- #\n",
    "# Retorna um dataframe que contem algumas colunas de outro dataframe;\n",
    "# as colunas que serão adicionadas ao novo data frame são as cujo nome está na lista de nomes recebida.\n",
    "# Se ocorrer algum erro o data frame que será retornado é igual ao recebido.\n",
    "# df = Data frame\n",
    "# col_list = Lista com o nome das colunas\n",
    "\n",
    "def ParteDataFrame(df, col_list):\n",
    "    try:\n",
    "        novo_df = pd.DataFrame()\n",
    "        for nome in col_list:\n",
    "            novo_df[nome] = df[nome]\n",
    "        return novo_df\n",
    "    except:\n",
    "        print(\"Erro\")\n",
    "        return df\n",
    "# ------------------------------------------------------------------- #"
   ]
  },
  {
   "cell_type": "markdown",
   "id": "c0633001",
   "metadata": {},
   "source": [
    "Calcula idades:"
   ]
  },
  {
   "cell_type": "code",
   "execution_count": 6,
   "id": "70c9d5a5",
   "metadata": {},
   "outputs": [],
   "source": [
    "# ---------------------------------------------------------------------------------------- #\n",
    "# Recebe uma coluna de idades e retorna uma coluna de idades de acordo com o ano recebido;\n",
    "# se ocorrer algum erro a coluna que será retornada é igual a recebida.\n",
    "# coluna_nascimento = coluna com os anos de nascimento\n",
    "# ano = ano que será comparado\n",
    "\n",
    "def CalculaIdades(coluna_nascimento, ano):\n",
    "    idades_lista = []\n",
    "    try:\n",
    "        for n in coluna_nascimento:\n",
    "            idades_lista.append(ano - n)\n",
    "        idades = pd.Series(data=idades_lista)\n",
    "        return idades\n",
    "    except:\n",
    "        print(\"Erro\")\n",
    "        return coluna_nascimento\n",
    "# ---------------------------------------------------------------------------------------- #"
   ]
  },
  {
   "cell_type": "markdown",
   "id": "06616262",
   "metadata": {},
   "source": [
    "Pré-processamento:"
   ]
  },
  {
   "cell_type": "code",
   "execution_count": 7,
   "id": "7ee5b362",
   "metadata": {},
   "outputs": [],
   "source": [
    "def ProcessamentoBinario(df, ano, colunas_remover = [], colunas_ordem = []):\n",
    "    df_copia = df\n",
    "    try:\n",
    "        # Criação:\n",
    "        # parte 1\n",
    "        df_copia['HOMEM'] = ColunaStrInt(df['SEXO'], {\"F\" : 0, \"M\" : 1})\n",
    "        df_copia['MULHER'] = ColunaStrInt(df['SEXO'], {\"F\" : 1, \"M\" : 0})\n",
    "        df_copia['DEFICIENCIA'] = ColunaStrInt(df['DEFICIENCIA'], {\"S\" : 1, \"N\" : 0})\n",
    "        \n",
    "        # Parte 2 : colunas _num\n",
    "        df_copia = Colunas_num(df, [\"CAMPUS\",\"BAIRRO_ENDERECO\",\"CIDADE_ENDERECO\",\"TIPO_COTA\"])\n",
    "        \n",
    "        # Parte 3: ensino PAI/MAE\n",
    "        df_copia['FUNDAMENTAL_PAI'] = ColunaStrInt(df['ESCOLARIDADE_PAI'], {\"ENSINO FUNDAMENTAL INCOMPLETO\" : 1}, 0)\n",
    "        df_copia['ENSINO MEDIO_PAI'] = ColunaStrInt(df['ESCOLARIDADE_PAI'], {\"ENSINO MEDIO\" : 1}, 0)\n",
    "        df_copia['ENSINO SUPERIOR_PAI'] = ColunaStrInt(df['ESCOLARIDADE_PAI'], {\"ENSINO SUPERIOR\" : 1}, 0)\n",
    "        df_copia['FUNDAMENTAL_MAE'] = ColunaStrInt(df['ESCOLARIDADE_MAE'], {\"ENSINO FUNDAMENTAL INCOMPLETO\" : 1}, 0)\n",
    "        df_copia['ENSINO MEDIO_MAE'] = ColunaStrInt(df['ESCOLARIDADE_MAE'], {\"ENSINO MEDIO\" : 1}, 0)\n",
    "        df_copia['ENSINO SUPERIOR_MAE'] = ColunaStrInt(df['ESCOLARIDADE_MAE'], {\"ENSINO SUPERIOR\" : 1}, 0)\n",
    "        \n",
    "        # Parte 4: idades\n",
    "        df_copia[\"IDADE\"] = CalculaIdades(df[\"ANO_NASCIMENTO\"], ano)\n",
    "        \n",
    "        # Remoção:\n",
    "        colunas_remover = ['CD_DISCENTE', 'ANO_INGRESSO', 'SEMESTRE_INGRESSO', 'TIPO_INGRESSO', 'CURSO', 'NATURALIDADE', \n",
    "                           \"SEXO\", 'PAIS_NATURALIDADE','UF_NATURALIDADE', 'UF_ENDERECO', 'COTA', \"ESCOLARIDADE_PAI\",\n",
    "                           \"ESCOLARIDADE_MAE\",]\n",
    "        df_copia = RemoveColunas(df_copia, colunas_remover)\n",
    "        \n",
    "        # Ordenação:\n",
    "        colunas_ordem = [\"COD_CURSO\",\"ANO_NASCIMENTO\", \"IDADE\",\"DEFICIENCIA\",\"HOMEM\",\"MULHER\",\"CAMPUS_num\",\n",
    "                         \"BAIRRO_ENDERECO_num\", \"CIDADE_ENDERECO_num\",\"TIPO_COTA_num\",\"FUNDAMENTAL_PAI\",\"ENSINO MEDIO_PAI\",\n",
    "                         \"ENSINO SUPERIOR_PAI\", \"FUNDAMENTAL_MAE\",\"ENSINO MEDIO_MAE\",\"ENSINO SUPERIOR_MAE\"]\n",
    "        df_copia = df[colunas_ordem]\n",
    "        \n",
    "        return df_copia\n",
    "    except:\n",
    "        print(\"Erro\")\n",
    "        return df"
   ]
  }
 ],
 "metadata": {
  "kernelspec": {
   "display_name": "Python 3 (ipykernel)",
   "language": "python",
   "name": "python3"
  },
  "language_info": {
   "codemirror_mode": {
    "name": "ipython",
    "version": 3
   },
   "file_extension": ".py",
   "mimetype": "text/x-python",
   "name": "python",
   "nbconvert_exporter": "python",
   "pygments_lexer": "ipython3",
   "version": "3.9.12"
  }
 },
 "nbformat": 4,
 "nbformat_minor": 5
}
