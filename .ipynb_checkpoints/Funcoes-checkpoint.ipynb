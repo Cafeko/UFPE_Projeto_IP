{
 "cells": [
  {
   "cell_type": "markdown",
   "id": "9316873b",
   "metadata": {},
   "source": [
    "# Funções"
   ]
  },
  {
   "cell_type": "markdown",
   "id": "1e021db8",
   "metadata": {},
   "source": [
    "Importa bibliotecas:"
   ]
  },
  {
   "cell_type": "code",
   "execution_count": 1,
   "id": "0c4f1abf",
   "metadata": {},
   "outputs": [],
   "source": [
    "import pandas as pd\n",
    "import numpy as np\n",
    "from sklearn import preprocessing"
   ]
  },
  {
   "cell_type": "markdown",
   "id": "bf795766",
   "metadata": {},
   "source": [
    "Remove colunas:"
   ]
  },
  {
   "cell_type": "code",
   "execution_count": 2,
   "id": "53145143",
   "metadata": {},
   "outputs": [],
   "source": [
    "# ------------------------------------------------------- #\n",
    "# Remove as colunas listadas de um dataframe e o retorna;\n",
    "# se ocorrer algum erro o data frame que será retornado é igual ao recebido.\n",
    "# df = dataframe\n",
    "# c_lista = lita com o name das colunas a ser removidas do dataframe\n",
    "\n",
    "def RemoveColunasLista(df, c_lista): \n",
    "    df_copia = df\n",
    "    try:\n",
    "        for c in c_lista:\n",
    "            df_copia.drop(c, axis=1, inplace=True)\n",
    "        return df_copia\n",
    "    except:\n",
    "        print(\"Erro\")\n",
    "        return df\n",
    "# ------------------------------------------------------- #"
   ]
  },
  {
   "cell_type": "markdown",
   "id": "5c50df3a",
   "metadata": {},
   "source": [
    "Coluna de string para int:"
   ]
  },
  {
   "cell_type": "code",
   "execution_count": 12,
   "id": "d6103531",
   "metadata": {},
   "outputs": [],
   "source": [
    "# -------------------------------------------------------------------- #\n",
    "# Recebe um valor de string e retorna um int, de acordo com um dicionário;\n",
    "# se o valor não for uma chave do dicionário ele se torna \"none\".\n",
    "# valor = valor que será transformado\n",
    "# dicio = dicionario que indica os valores e seus resultados\n",
    "\n",
    "def ValoresStrInt(valor, dicio, valor_fora = \"none\"):\n",
    "    for k in dicio.keys():\n",
    "        if valor == k:\n",
    "            return dicio[k]\n",
    "    return valor_fora\n",
    "# -------------------------------------------------------------------- #\n",
    "\n",
    "# ------------------------------------------------------------------------------------ #\n",
    "# Recebe uma coluna de string e retorna uma coluna de int, de acordo com um dicionário;\n",
    "# se ocorrer algum erro a coluna que será retornada é igual a recebida.\n",
    "# coluna = Coluna que será transformada\n",
    "# dicio = dicionario que indica os valores e seus resultados\n",
    "\n",
    "def ColunaStrInt(coluna, dicio):\n",
    "    try:\n",
    "        lista = []\n",
    "        for v in coluna:\n",
    "            lista.append(ValoresStringInt(v, dicio))\n",
    "        s = pd.Series(data=lista)\n",
    "        return s\n",
    "    except:\n",
    "        print(\"Erro\")\n",
    "        return coluna\n",
    "# ------------------------------------------------------------------------------------ #"
   ]
  },
  {
   "cell_type": "markdown",
   "id": "2c8ff963",
   "metadata": {},
   "source": [
    "Automatico de string para int:"
   ]
  },
  {
   "cell_type": "code",
   "execution_count": 7,
   "id": "8ce3036c",
   "metadata": {},
   "outputs": [],
   "source": [
    "# ------------------------------------------------------------------------------------------------- #\n",
    "# Recebe uma coluna de string e retorna uma coluna de int, mas os valores não podem ser escolhidos;\n",
    "# col = Coluna\n",
    "\n",
    "def AutoColunaStrInt(col):\n",
    "    le = preprocessing.LabelEncoder()\n",
    "    le.fit(col)\n",
    "    nova_col = le.transform(col)\n",
    "    return nova_col\n",
    "# ------------------------------------------------------------------------------------------------- #\n",
    "\n",
    "# ---------------------------------------------------------------------------------------------------------------- #\n",
    "# Recebe um data frame e aplica o metodo \"AutoColunaStringInt\" nas colunas do data frame; \n",
    "# retorna o data frame transformado de string para int.\n",
    "# Se ocorrer algum erro o data frame que será retornado é igual ao recebido.\n",
    "# df = data frame que será transformado\n",
    "\n",
    "def AutoColunasStrInt(df):\n",
    "    df_copia = df\n",
    "    try:\n",
    "        for c_nome in df_copia:\n",
    "            df_copia[c_nome] = AutoColunaStrInt(df_copia[c_nome])\n",
    "        return df_copia\n",
    "    except:\n",
    "        print(\"Erro\")\n",
    "        return df\n",
    "# --------------------------------------------------------------------------------------------------------------------- #"
   ]
  },
  {
   "cell_type": "markdown",
   "id": "9bbda0a4",
   "metadata": {},
   "source": [
    "Divide data frames:"
   ]
  },
  {
   "cell_type": "code",
   "execution_count": 8,
   "id": "8ad2d8f7",
   "metadata": {},
   "outputs": [],
   "source": [
    "# ------------------------------------------------------------------- #\n",
    "# Retorna um dataframe que contem algumas colunas de outro dataframe;\n",
    "# as colunas que serão adicionadas ao novo data frame são as cujo nome está na lista de nomes recebida.\n",
    "# Se ocorrer algum erro o data frame que será retornado é igual ao recebido.\n",
    "# df = Data frame\n",
    "# col_list = Lista com o nome das colunas\n",
    "\n",
    "def ParteDataFrame(df, col_list):\n",
    "    try:\n",
    "        novo_df = pd.DataFrame()\n",
    "        for nome in col_list:\n",
    "            novo_df[nome] = df[nome]\n",
    "        return novo_df\n",
    "    except:\n",
    "        print(\"Erro\")\n",
    "        return df\n",
    "# ------------------------------------------------------------------- #"
   ]
  },
  {
   "cell_type": "markdown",
   "id": "06616262",
   "metadata": {},
   "source": [
    "Pré-processamento:"
   ]
  },
  {
   "cell_type": "code",
   "execution_count": 11,
   "id": "7ee5b362",
   "metadata": {},
   "outputs": [],
   "source": [
    "def P(df, col_list):\n",
    "    df_copia = df\n",
    "    try:\n",
    "        parte_df = pd.DataFrame()\n",
    "        novo_df = df_copia\n",
    "\n",
    "        parte_df = ParteDataFrame(df_copia, col_list)\n",
    "        parte_df = AutoColunasStrInt(parte_df)\n",
    "\n",
    "        for col_nome in parte_df:\n",
    "            novo_df[col_nome + \"_num\"] = parte_df[col_nome]\n",
    "\n",
    "        return novo_df\n",
    "    except:\n",
    "        print(\"Erro\")\n",
    "        return df"
   ]
  }
 ],
 "metadata": {
  "kernelspec": {
   "display_name": "Python 3 (ipykernel)",
   "language": "python",
   "name": "python3"
  },
  "language_info": {
   "codemirror_mode": {
    "name": "ipython",
    "version": 3
   },
   "file_extension": ".py",
   "mimetype": "text/x-python",
   "name": "python",
   "nbconvert_exporter": "python",
   "pygments_lexer": "ipython3",
   "version": "3.9.12"
  }
 },
 "nbformat": 4,
 "nbformat_minor": 5
}
