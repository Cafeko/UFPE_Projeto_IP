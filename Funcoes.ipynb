{
 "cells": [
  {
   "cell_type": "markdown",
   "id": "9316873b",
   "metadata": {},
   "source": [
    "# Funções"
   ]
  },
  {
   "cell_type": "markdown",
   "id": "1e021db8",
   "metadata": {},
   "source": [
    "Importar bibliotecas:"
   ]
  },
  {
   "cell_type": "code",
   "execution_count": 1,
   "id": "0c4f1abf",
   "metadata": {},
   "outputs": [
    {
     "ename": "KeyboardInterrupt",
     "evalue": "",
     "output_type": "error",
     "traceback": [
      "\u001b[1;31m---------------------------------------------------------------------------\u001b[0m",
      "\u001b[1;31mKeyboardInterrupt\u001b[0m                         Traceback (most recent call last)",
      "\u001b[1;32mc:\\Users\\kelvi\\Desktop\\ipp\\UFPE_Projeto_IP\\Funcoes.ipynb Célula: 3\u001b[0m in \u001b[0;36m<cell line: 1>\u001b[1;34m()\u001b[0m\n\u001b[1;32m----> <a href='vscode-notebook-cell:/c%3A/Users/kelvi/Desktop/ipp/UFPE_Projeto_IP/Funcoes.ipynb#W2sZmlsZQ%3D%3D?line=0'>1</a>\u001b[0m \u001b[39mimport\u001b[39;00m \u001b[39mpandas\u001b[39;00m \u001b[39mas\u001b[39;00m \u001b[39mpd\u001b[39;00m\n\u001b[0;32m      <a href='vscode-notebook-cell:/c%3A/Users/kelvi/Desktop/ipp/UFPE_Projeto_IP/Funcoes.ipynb#W2sZmlsZQ%3D%3D?line=1'>2</a>\u001b[0m \u001b[39mimport\u001b[39;00m \u001b[39mnumpy\u001b[39;00m \u001b[39mas\u001b[39;00m \u001b[39mnp\u001b[39;00m\n\u001b[0;32m      <a href='vscode-notebook-cell:/c%3A/Users/kelvi/Desktop/ipp/UFPE_Projeto_IP/Funcoes.ipynb#W2sZmlsZQ%3D%3D?line=2'>3</a>\u001b[0m \u001b[39mfrom\u001b[39;00m \u001b[39msklearn\u001b[39;00m \u001b[39mimport\u001b[39;00m preprocessing\n",
      "File \u001b[1;32md:\\Python39\\lib\\site-packages\\pandas\\__init__.py:48\u001b[0m, in \u001b[0;36m<module>\u001b[1;34m\u001b[0m\n\u001b[0;32m     45\u001b[0m \u001b[39m# let init-time option registration happen\u001b[39;00m\n\u001b[0;32m     46\u001b[0m \u001b[39mimport\u001b[39;00m \u001b[39mpandas\u001b[39;00m\u001b[39m.\u001b[39;00m\u001b[39mcore\u001b[39;00m\u001b[39m.\u001b[39;00m\u001b[39mconfig_init\u001b[39;00m\n\u001b[1;32m---> 48\u001b[0m \u001b[39mfrom\u001b[39;00m \u001b[39mpandas\u001b[39;00m\u001b[39m.\u001b[39;00m\u001b[39mcore\u001b[39;00m\u001b[39m.\u001b[39;00m\u001b[39mapi\u001b[39;00m \u001b[39mimport\u001b[39;00m (\n\u001b[0;32m     49\u001b[0m     \u001b[39m# dtype\u001b[39;00m\n\u001b[0;32m     50\u001b[0m     Int8Dtype,\n\u001b[0;32m     51\u001b[0m     Int16Dtype,\n\u001b[0;32m     52\u001b[0m     Int32Dtype,\n\u001b[0;32m     53\u001b[0m     Int64Dtype,\n\u001b[0;32m     54\u001b[0m     UInt8Dtype,\n\u001b[0;32m     55\u001b[0m     UInt16Dtype,\n\u001b[0;32m     56\u001b[0m     UInt32Dtype,\n\u001b[0;32m     57\u001b[0m     UInt64Dtype,\n\u001b[0;32m     58\u001b[0m     Float32Dtype,\n\u001b[0;32m     59\u001b[0m     Float64Dtype,\n\u001b[0;32m     60\u001b[0m     CategoricalDtype,\n\u001b[0;32m     61\u001b[0m     PeriodDtype,\n\u001b[0;32m     62\u001b[0m     IntervalDtype,\n\u001b[0;32m     63\u001b[0m     DatetimeTZDtype,\n\u001b[0;32m     64\u001b[0m     StringDtype,\n\u001b[0;32m     65\u001b[0m     BooleanDtype,\n\u001b[0;32m     66\u001b[0m     \u001b[39m# missing\u001b[39;00m\n\u001b[0;32m     67\u001b[0m     NA,\n\u001b[0;32m     68\u001b[0m     isna,\n\u001b[0;32m     69\u001b[0m     isnull,\n\u001b[0;32m     70\u001b[0m     notna,\n\u001b[0;32m     71\u001b[0m     notnull,\n\u001b[0;32m     72\u001b[0m     \u001b[39m# indexes\u001b[39;00m\n\u001b[0;32m     73\u001b[0m     Index,\n\u001b[0;32m     74\u001b[0m     CategoricalIndex,\n\u001b[0;32m     75\u001b[0m     RangeIndex,\n\u001b[0;32m     76\u001b[0m     MultiIndex,\n\u001b[0;32m     77\u001b[0m     IntervalIndex,\n\u001b[0;32m     78\u001b[0m     TimedeltaIndex,\n\u001b[0;32m     79\u001b[0m     DatetimeIndex,\n\u001b[0;32m     80\u001b[0m     PeriodIndex,\n\u001b[0;32m     81\u001b[0m     IndexSlice,\n\u001b[0;32m     82\u001b[0m     \u001b[39m# tseries\u001b[39;00m\n\u001b[0;32m     83\u001b[0m     NaT,\n\u001b[0;32m     84\u001b[0m     Period,\n\u001b[0;32m     85\u001b[0m     period_range,\n\u001b[0;32m     86\u001b[0m     Timedelta,\n\u001b[0;32m     87\u001b[0m     timedelta_range,\n\u001b[0;32m     88\u001b[0m     Timestamp,\n\u001b[0;32m     89\u001b[0m     date_range,\n\u001b[0;32m     90\u001b[0m     bdate_range,\n\u001b[0;32m     91\u001b[0m     Interval,\n\u001b[0;32m     92\u001b[0m     interval_range,\n\u001b[0;32m     93\u001b[0m     DateOffset,\n\u001b[0;32m     94\u001b[0m     \u001b[39m# conversion\u001b[39;00m\n\u001b[0;32m     95\u001b[0m     to_numeric,\n\u001b[0;32m     96\u001b[0m     to_datetime,\n\u001b[0;32m     97\u001b[0m     to_timedelta,\n\u001b[0;32m     98\u001b[0m     \u001b[39m# misc\u001b[39;00m\n\u001b[0;32m     99\u001b[0m     Flags,\n\u001b[0;32m    100\u001b[0m     Grouper,\n\u001b[0;32m    101\u001b[0m     factorize,\n\u001b[0;32m    102\u001b[0m     unique,\n\u001b[0;32m    103\u001b[0m     value_counts,\n\u001b[0;32m    104\u001b[0m     NamedAgg,\n\u001b[0;32m    105\u001b[0m     array,\n\u001b[0;32m    106\u001b[0m     Categorical,\n\u001b[0;32m    107\u001b[0m     set_eng_float_format,\n\u001b[0;32m    108\u001b[0m     Series,\n\u001b[0;32m    109\u001b[0m     DataFrame,\n\u001b[0;32m    110\u001b[0m )\n\u001b[0;32m    112\u001b[0m \u001b[39mfrom\u001b[39;00m \u001b[39mpandas\u001b[39;00m\u001b[39m.\u001b[39;00m\u001b[39mcore\u001b[39;00m\u001b[39m.\u001b[39;00m\u001b[39marrays\u001b[39;00m\u001b[39m.\u001b[39;00m\u001b[39msparse\u001b[39;00m \u001b[39mimport\u001b[39;00m SparseDtype\n\u001b[0;32m    114\u001b[0m \u001b[39mfrom\u001b[39;00m \u001b[39mpandas\u001b[39;00m\u001b[39m.\u001b[39;00m\u001b[39mtseries\u001b[39;00m\u001b[39m.\u001b[39;00m\u001b[39mapi\u001b[39;00m \u001b[39mimport\u001b[39;00m infer_freq\n",
      "File \u001b[1;32md:\\Python39\\lib\\site-packages\\pandas\\core\\api.py:48\u001b[0m, in \u001b[0;36m<module>\u001b[1;34m\u001b[0m\n\u001b[0;32m     46\u001b[0m \u001b[39mfrom\u001b[39;00m \u001b[39mpandas\u001b[39;00m\u001b[39m.\u001b[39;00m\u001b[39mcore\u001b[39;00m\u001b[39m.\u001b[39;00m\u001b[39mconstruction\u001b[39;00m \u001b[39mimport\u001b[39;00m array\n\u001b[0;32m     47\u001b[0m \u001b[39mfrom\u001b[39;00m \u001b[39mpandas\u001b[39;00m\u001b[39m.\u001b[39;00m\u001b[39mcore\u001b[39;00m\u001b[39m.\u001b[39;00m\u001b[39mflags\u001b[39;00m \u001b[39mimport\u001b[39;00m Flags\n\u001b[1;32m---> 48\u001b[0m \u001b[39mfrom\u001b[39;00m \u001b[39mpandas\u001b[39;00m\u001b[39m.\u001b[39;00m\u001b[39mcore\u001b[39;00m\u001b[39m.\u001b[39;00m\u001b[39mgroupby\u001b[39;00m \u001b[39mimport\u001b[39;00m (\n\u001b[0;32m     49\u001b[0m     Grouper,\n\u001b[0;32m     50\u001b[0m     NamedAgg,\n\u001b[0;32m     51\u001b[0m )\n\u001b[0;32m     52\u001b[0m \u001b[39mfrom\u001b[39;00m \u001b[39mpandas\u001b[39;00m\u001b[39m.\u001b[39;00m\u001b[39mcore\u001b[39;00m\u001b[39m.\u001b[39;00m\u001b[39mindexes\u001b[39;00m\u001b[39m.\u001b[39;00m\u001b[39mapi\u001b[39;00m \u001b[39mimport\u001b[39;00m (\n\u001b[0;32m     53\u001b[0m     CategoricalIndex,\n\u001b[0;32m     54\u001b[0m     DatetimeIndex,\n\u001b[1;32m   (...)\u001b[0m\n\u001b[0;32m     64\u001b[0m     UInt64Index,\n\u001b[0;32m     65\u001b[0m )\n\u001b[0;32m     66\u001b[0m \u001b[39mfrom\u001b[39;00m \u001b[39mpandas\u001b[39;00m\u001b[39m.\u001b[39;00m\u001b[39mcore\u001b[39;00m\u001b[39m.\u001b[39;00m\u001b[39mindexes\u001b[39;00m\u001b[39m.\u001b[39;00m\u001b[39mdatetimes\u001b[39;00m \u001b[39mimport\u001b[39;00m (\n\u001b[0;32m     67\u001b[0m     bdate_range,\n\u001b[0;32m     68\u001b[0m     date_range,\n\u001b[0;32m     69\u001b[0m )\n",
      "File \u001b[1;32md:\\Python39\\lib\\site-packages\\pandas\\core\\groupby\\__init__.py:1\u001b[0m, in \u001b[0;36m<module>\u001b[1;34m\u001b[0m\n\u001b[1;32m----> 1\u001b[0m \u001b[39mfrom\u001b[39;00m \u001b[39mpandas\u001b[39;00m\u001b[39m.\u001b[39;00m\u001b[39mcore\u001b[39;00m\u001b[39m.\u001b[39;00m\u001b[39mgroupby\u001b[39;00m\u001b[39m.\u001b[39;00m\u001b[39mgeneric\u001b[39;00m \u001b[39mimport\u001b[39;00m (\n\u001b[0;32m      2\u001b[0m     DataFrameGroupBy,\n\u001b[0;32m      3\u001b[0m     NamedAgg,\n\u001b[0;32m      4\u001b[0m     SeriesGroupBy,\n\u001b[0;32m      5\u001b[0m )\n\u001b[0;32m      6\u001b[0m \u001b[39mfrom\u001b[39;00m \u001b[39mpandas\u001b[39;00m\u001b[39m.\u001b[39;00m\u001b[39mcore\u001b[39;00m\u001b[39m.\u001b[39;00m\u001b[39mgroupby\u001b[39;00m\u001b[39m.\u001b[39;00m\u001b[39mgroupby\u001b[39;00m \u001b[39mimport\u001b[39;00m GroupBy\n\u001b[0;32m      7\u001b[0m \u001b[39mfrom\u001b[39;00m \u001b[39mpandas\u001b[39;00m\u001b[39m.\u001b[39;00m\u001b[39mcore\u001b[39;00m\u001b[39m.\u001b[39;00m\u001b[39mgroupby\u001b[39;00m\u001b[39m.\u001b[39;00m\u001b[39mgrouper\u001b[39;00m \u001b[39mimport\u001b[39;00m Grouper\n",
      "File \u001b[1;32md:\\Python39\\lib\\site-packages\\pandas\\core\\groupby\\generic.py:70\u001b[0m, in \u001b[0;36m<module>\u001b[1;34m\u001b[0m\n\u001b[0;32m     68\u001b[0m \u001b[39mimport\u001b[39;00m \u001b[39mpandas\u001b[39;00m\u001b[39m.\u001b[39;00m\u001b[39mcore\u001b[39;00m\u001b[39m.\u001b[39;00m\u001b[39mcommon\u001b[39;00m \u001b[39mas\u001b[39;00m \u001b[39mcom\u001b[39;00m\n\u001b[0;32m     69\u001b[0m \u001b[39mfrom\u001b[39;00m \u001b[39mpandas\u001b[39;00m\u001b[39m.\u001b[39;00m\u001b[39mcore\u001b[39;00m\u001b[39m.\u001b[39;00m\u001b[39mconstruction\u001b[39;00m \u001b[39mimport\u001b[39;00m create_series_with_explicit_dtype\n\u001b[1;32m---> 70\u001b[0m \u001b[39mfrom\u001b[39;00m \u001b[39mpandas\u001b[39;00m\u001b[39m.\u001b[39;00m\u001b[39mcore\u001b[39;00m\u001b[39m.\u001b[39;00m\u001b[39mframe\u001b[39;00m \u001b[39mimport\u001b[39;00m DataFrame\n\u001b[0;32m     71\u001b[0m \u001b[39mfrom\u001b[39;00m \u001b[39mpandas\u001b[39;00m\u001b[39m.\u001b[39;00m\u001b[39mcore\u001b[39;00m\u001b[39m.\u001b[39;00m\u001b[39mgeneric\u001b[39;00m \u001b[39mimport\u001b[39;00m NDFrame\n\u001b[0;32m     72\u001b[0m \u001b[39mfrom\u001b[39;00m \u001b[39mpandas\u001b[39;00m\u001b[39m.\u001b[39;00m\u001b[39mcore\u001b[39;00m\u001b[39m.\u001b[39;00m\u001b[39mgroupby\u001b[39;00m \u001b[39mimport\u001b[39;00m base\n",
      "File \u001b[1;32md:\\Python39\\lib\\site-packages\\pandas\\core\\frame.py:193\u001b[0m, in \u001b[0;36m<module>\u001b[1;34m\u001b[0m\n\u001b[0;32m    180\u001b[0m \u001b[39mfrom\u001b[39;00m \u001b[39mpandas\u001b[39;00m\u001b[39m.\u001b[39;00m\u001b[39mcore\u001b[39;00m\u001b[39m.\u001b[39;00m\u001b[39minternals\u001b[39;00m\u001b[39m.\u001b[39;00m\u001b[39mconstruction\u001b[39;00m \u001b[39mimport\u001b[39;00m (\n\u001b[0;32m    181\u001b[0m     arrays_to_mgr,\n\u001b[0;32m    182\u001b[0m     dataclasses_to_dicts,\n\u001b[1;32m   (...)\u001b[0m\n\u001b[0;32m    190\u001b[0m     treat_as_nested,\n\u001b[0;32m    191\u001b[0m )\n\u001b[0;32m    192\u001b[0m \u001b[39mfrom\u001b[39;00m \u001b[39mpandas\u001b[39;00m\u001b[39m.\u001b[39;00m\u001b[39mcore\u001b[39;00m\u001b[39m.\u001b[39;00m\u001b[39mreshape\u001b[39;00m\u001b[39m.\u001b[39;00m\u001b[39mmelt\u001b[39;00m \u001b[39mimport\u001b[39;00m melt\n\u001b[1;32m--> 193\u001b[0m \u001b[39mfrom\u001b[39;00m \u001b[39mpandas\u001b[39;00m\u001b[39m.\u001b[39;00m\u001b[39mcore\u001b[39;00m\u001b[39m.\u001b[39;00m\u001b[39mseries\u001b[39;00m \u001b[39mimport\u001b[39;00m Series\n\u001b[0;32m    194\u001b[0m \u001b[39mfrom\u001b[39;00m \u001b[39mpandas\u001b[39;00m\u001b[39m.\u001b[39;00m\u001b[39mcore\u001b[39;00m\u001b[39m.\u001b[39;00m\u001b[39mshared_docs\u001b[39;00m \u001b[39mimport\u001b[39;00m _shared_docs\n\u001b[0;32m    195\u001b[0m \u001b[39mfrom\u001b[39;00m \u001b[39mpandas\u001b[39;00m\u001b[39m.\u001b[39;00m\u001b[39mcore\u001b[39;00m\u001b[39m.\u001b[39;00m\u001b[39msorting\u001b[39;00m \u001b[39mimport\u001b[39;00m (\n\u001b[0;32m    196\u001b[0m     get_group_index,\n\u001b[0;32m    197\u001b[0m     lexsort_indexer,\n\u001b[0;32m    198\u001b[0m     nargsort,\n\u001b[0;32m    199\u001b[0m )\n",
      "File \u001b[1;32md:\\Python39\\lib\\site-packages\\pandas\\core\\series.py:27\u001b[0m, in \u001b[0;36m<module>\u001b[1;34m\u001b[0m\n\u001b[0;32m     23\u001b[0m \u001b[39mimport\u001b[39;00m \u001b[39mnumpy\u001b[39;00m \u001b[39mas\u001b[39;00m \u001b[39mnp\u001b[39;00m\n\u001b[0;32m     25\u001b[0m \u001b[39mfrom\u001b[39;00m \u001b[39mpandas\u001b[39;00m\u001b[39m.\u001b[39;00m\u001b[39m_config\u001b[39;00m \u001b[39mimport\u001b[39;00m get_option\n\u001b[1;32m---> 27\u001b[0m \u001b[39mfrom\u001b[39;00m \u001b[39mpandas\u001b[39;00m\u001b[39m.\u001b[39;00m\u001b[39m_libs\u001b[39;00m \u001b[39mimport\u001b[39;00m (\n\u001b[0;32m     28\u001b[0m     lib,\n\u001b[0;32m     29\u001b[0m     properties,\n\u001b[0;32m     30\u001b[0m     reshape,\n\u001b[0;32m     31\u001b[0m     tslibs,\n\u001b[0;32m     32\u001b[0m )\n\u001b[0;32m     33\u001b[0m \u001b[39mfrom\u001b[39;00m \u001b[39mpandas\u001b[39;00m\u001b[39m.\u001b[39;00m\u001b[39m_libs\u001b[39;00m\u001b[39m.\u001b[39;00m\u001b[39mlib\u001b[39;00m \u001b[39mimport\u001b[39;00m no_default\n\u001b[0;32m     34\u001b[0m \u001b[39mfrom\u001b[39;00m \u001b[39mpandas\u001b[39;00m\u001b[39m.\u001b[39;00m\u001b[39m_typing\u001b[39;00m \u001b[39mimport\u001b[39;00m (\n\u001b[0;32m     35\u001b[0m     AggFuncType,\n\u001b[0;32m     36\u001b[0m     ArrayLike,\n\u001b[1;32m   (...)\u001b[0m\n\u001b[0;32m     47\u001b[0m     npt,\n\u001b[0;32m     48\u001b[0m )\n",
      "File \u001b[1;32m<frozen importlib._bootstrap>:398\u001b[0m, in \u001b[0;36mparent\u001b[1;34m(self)\u001b[0m\n",
      "\u001b[1;31mKeyboardInterrupt\u001b[0m: "
     ]
    }
   ],
   "source": [
    "import pandas as pd\n",
    "import numpy as np\n",
    "from sklearn import preprocessing"
   ]
  },
  {
   "cell_type": "markdown",
   "id": "bf795766",
   "metadata": {},
   "source": [
    "Remove colunas:"
   ]
  },
  {
   "cell_type": "code",
   "execution_count": null,
   "id": "53145143",
   "metadata": {},
   "outputs": [],
   "source": [
    "# ------------------------------------------------------- #\n",
    "# Remove as colunas listadas de um dataframe e o retorna;\n",
    "# se ocorrer algum erro o data frame que será retornado é igual ao recebido.\n",
    "# df = dataframe\n",
    "# c_lista = lita com o name das colunas a ser removidas do dataframe\n",
    "\n",
    "def RemoveColunas(df, colunas):\n",
    "    df_copia = df.copy()\n",
    "    try:\n",
    "        if type(colunas) == list:\n",
    "            for c in colunas:\n",
    "                df_copia.drop(c, axis=1, inplace=True)\n",
    "        elif type(colunas) == str:\n",
    "            df_copia.drop(colunas, axis=1, inplace=True)\n",
    "        return df_copia\n",
    "    except:\n",
    "        print(\"Erro\")\n",
    "        return df\n",
    "# ------------------------------------------------------- #"
   ]
  },
  {
   "cell_type": "markdown",
   "id": "75ce6bdf",
   "metadata": {},
   "source": [
    "Cria coluna de grupos com dicionário:"
   ]
  },
  {
   "cell_type": "code",
   "execution_count": null,
   "id": "ef11804b",
   "metadata": {},
   "outputs": [],
   "source": [
    "# ------------------------------------------------------------------------ #\n",
    "# Recebe uma coluna e um dicionário em que as chaves são o nome dos grupos\n",
    "# e os valores são listas com os valores que estão naquele grupo.\n",
    "# Pega os valores da coluna, verifica em que grupo eles estão e adiciona os grupos dos valores em uma lista e a retorna.\n",
    "# Se o valor não estiver em nenhum grupo do dicionário o grupo adicionado à lista será None.\n",
    "# coluna = Coluna com os valores.\n",
    "# dicio = dicionário com os grupos e valores.\n",
    "\n",
    "def GruposDicio(coluna, dicio):\n",
    "    coluna_valores = []\n",
    "    for valor in coluna:\n",
    "        tem_grupo = False\n",
    "        for grupo in dicio.keys():\n",
    "            if valor in dicio[grupo]:\n",
    "                coluna_valores.append(grupo)\n",
    "                tem_grupo = True\n",
    "        if tem_grupo == False:\n",
    "            coluna_valores.append(\"None\")\n",
    "    return coluna_valores\n",
    "# ------------------------------------------------------------------------ #"
   ]
  },
  {
   "cell_type": "markdown",
   "id": "5c50df3a",
   "metadata": {},
   "source": [
    "Coluna de string para int:"
   ]
  },
  {
   "cell_type": "code",
   "execution_count": null,
   "id": "d6103531",
   "metadata": {},
   "outputs": [],
   "source": [
    "# -------------------------------------------------------------------- #\n",
    "# Recebe um valor de string e retorna um int, de acordo com um dicionário;\n",
    "# se o valor não for uma chave do dicionário ele se torna \"none\".\n",
    "# valor = valor que será transformado\n",
    "# dicio = dicionario que indica os valores e seus resultados\n",
    "# valor_fora = valor atribuido caso o valor não esteja no dicionario \n",
    "\n",
    "def ValoresStrInt(valor, dicio, valor_fora):\n",
    "    for k in dicio.keys():\n",
    "        if valor == k:\n",
    "            return dicio[k]\n",
    "    return valor_fora\n",
    "# -------------------------------------------------------------------- #\n",
    "\n",
    "# ------------------------------------------------------------------------------------ #\n",
    "# Recebe uma coluna de string e retorna uma coluna de int, de acordo com um dicionário;\n",
    "# se ocorrer algum erro a coluna que será retornada é igual a recebida.\n",
    "# coluna = Coluna que será transformada\n",
    "# dicio = dicionario que indica os valores e seus resultados\n",
    "# valor_fora = valor atribuido caso o valor não esteja no dicionario\n",
    "\n",
    "def ColunaStrInt(coluna, dicio, valor_fora = \"none\"):\n",
    "    try:\n",
    "        lista = []\n",
    "        for v in coluna:\n",
    "            lista.append(ValoresStrInt(v, dicio, valor_fora))\n",
    "        s = pd.Series(data=lista)\n",
    "        return s\n",
    "    except:\n",
    "        print(\"Erro\")\n",
    "        return coluna\n",
    "# ------------------------------------------------------------------------------------ #"
   ]
  },
  {
   "cell_type": "markdown",
   "id": "2c8ff963",
   "metadata": {},
   "source": [
    "Automatico de string para int:"
   ]
  },
  {
   "cell_type": "code",
   "execution_count": null,
   "id": "8ce3036c",
   "metadata": {},
   "outputs": [],
   "source": [
    "# ------------------------------------------------------------------------------------------------- #\n",
    "# Recebe uma coluna de string e retorna uma coluna de int, mas os valores não podem ser escolhidos;\n",
    "# coluna = Coluna\n",
    "\n",
    "def AutoColunaStrInt(coluna):\n",
    "    le = preprocessing.LabelEncoder()\n",
    "    le.fit(coluna)\n",
    "    nova_col = le.transform(coluna)\n",
    "    return nova_col\n",
    "# ------------------------------------------------------------------------------------------------- #\n",
    "\n",
    "# ---------------------------------------------------------------------------------------------------------------- #\n",
    "# Recebe um data frame e aplica o metodo \"AutoColunaStringInt\" nas colunas do data frame; \n",
    "# retorna o data frame transformado de string para int.\n",
    "# Se ocorrer algum erro o data frame que será retornado é igual ao recebido.\n",
    "# df = data frame que será transformado\n",
    "\n",
    "def AutoColunasStrInt(df):\n",
    "    df_copia = df.copy()\n",
    "    try:\n",
    "        for c_nome in df_copia:\n",
    "            df_copia[c_nome] = AutoColunaStrInt(df_copia[c_nome])\n",
    "        return df_copia\n",
    "    except:\n",
    "        print(\"Erro\")\n",
    "        return df\n",
    "# --------------------------------------------------------------------------------------------------------------------- #\n",
    "\n",
    "# ------------------------------------------------------------------ #\n",
    "# Recebe um data frame e uma lista de strings com o nome de colunas;\n",
    "# As colunas do data frame cujos nome estão na lista serão usadas para criar novas colunas com valores numéricos;\n",
    "# O novo data frame com as colunas normais e as numéricas é retornado.\n",
    "# # se ocorrer algum erro a coluna que será retornada é igual a recebida.\n",
    "# df = Data frame\n",
    "# col_list = Lista com o nome das colunas\n",
    "\n",
    "def Colunas_num(df, col_list):\n",
    "    df_copia = df.copy()\n",
    "    try:\n",
    "        parte_df = pd.DataFrame()\n",
    "        novo_df = df_copia\n",
    "\n",
    "        parte_df = ParteDataFrame(df_copia, col_list)\n",
    "        parte_df = AutoColunasStrInt(parte_df)\n",
    "\n",
    "        for col_nome in parte_df:\n",
    "            novo_df[col_nome + \"_num\"] = parte_df[col_nome]\n",
    "\n",
    "        return novo_df\n",
    "    except:\n",
    "        print(\"Erro\")\n",
    "        return df\n",
    "# ------------------------------------------------------------------ #"
   ]
  },
  {
   "cell_type": "markdown",
   "id": "9bbda0a4",
   "metadata": {},
   "source": [
    "Divide data frames:"
   ]
  },
  {
   "cell_type": "code",
   "execution_count": null,
   "id": "8ad2d8f7",
   "metadata": {},
   "outputs": [],
   "source": [
    "# ------------------------------------------------------------------- #\n",
    "# Retorna um dataframe que contem algumas colunas de outro dataframe;\n",
    "# as colunas que serão adicionadas ao novo data frame são as cujo nome está na lista de nomes recebida.\n",
    "# Se ocorrer algum erro o data frame que será retornado é igual ao recebido.\n",
    "# df = Data frame\n",
    "# col_list = Lista com o nome das colunas\n",
    "\n",
    "def ParteDataFrame(df, col_list):\n",
    "    try:\n",
    "        novo_df = pd.DataFrame()\n",
    "        for nome in col_list:\n",
    "            novo_df[nome] = df[nome]\n",
    "        return novo_df\n",
    "    except:\n",
    "        print(\"Erro\")\n",
    "        return df\n",
    "# ------------------------------------------------------------------- #"
   ]
  },
  {
   "cell_type": "markdown",
   "id": "d44a2f44",
   "metadata": {},
   "source": [
    "Auto Loc:"
   ]
  },
  {
   "cell_type": "code",
   "execution_count": null,
   "id": "07914279",
   "metadata": {},
   "outputs": [],
   "source": [
    "# --------------------------------------------------------------------------------------------------------------- #\n",
    "# Da loc em um data frame e retorna um novo data frame filtrado por um valor desejado em uma coluna especificada.\n",
    "# Se ocorrer algum erro o data frame retornado é igual ao recebido.\n",
    "# df = Data frame que será filtrado.\n",
    "# coluna_nome = Nome da coluna que será usada para filtrar o data frame.\n",
    "# valor = Valor desejado.\n",
    "\n",
    "def ColLoc(df, coluna_nome, valor):\n",
    "    df_copia = df.copy()\n",
    "    try:\n",
    "        if valor in df_copia[coluna_nome].values:\n",
    "            df_copia = df_copia.loc[df_copia[coluna_nome] == valor]\n",
    "            return df_copia\n",
    "        else:\n",
    "            print(\"Erro, Valor não encontrado na coluna especificada.\")\n",
    "            return df\n",
    "    except:\n",
    "        print(\"Erro\")\n",
    "        return df\n",
    "# --------------------------------------------------------------------------------------------------------------- #"
   ]
  },
  {
   "cell_type": "markdown",
   "id": "3c598462",
   "metadata": {},
   "source": [
    "Estética do gráfico:"
   ]
  },
  {
   "cell_type": "code",
   "execution_count": null,
   "id": "acaa6219",
   "metadata": {},
   "outputs": [],
   "source": [
    "# --------------------------------------------------------------------------------------------------- #\n",
    "# Pega os valores de uma coluna e cria uma paleta de cores, as cores são definidas por um dicionário.\n",
    "# coluna = Coluna que tem os valores.\n",
    "# dicio = Dicionário que define as cores, os valores da coluna são as chaves e as cores são os valores. \n",
    "# cor_Substituta = Cor atribuída aos valores que não estão no dicionario. \n",
    "\n",
    "def CoresPalette(coluna, dicio, cor_Substituta=\"black\"):\n",
    "    palette = []\n",
    "    valores_lista = ColunaValores(coluna)\n",
    "    for v in valores_lista:\n",
    "        if v in dicio.keys():\n",
    "            palette.append(dicio[v])\n",
    "        else:\n",
    "            palette.append(cor_Substituta)\n",
    "    return palette\n",
    "# --------------------------------------------------------------------------------------------------- #"
   ]
  },
  {
   "cell_type": "markdown",
   "id": "c0633001",
   "metadata": {},
   "source": [
    "Calcula idades:"
   ]
  },
  {
   "cell_type": "code",
   "execution_count": null,
   "id": "70c9d5a5",
   "metadata": {},
   "outputs": [],
   "source": [
    "# ---------------------------------------------------------------------------------------- #\n",
    "# Recebe uma coluna de idades e retorna uma coluna de idades de acordo com o ano recebido;\n",
    "# se ocorrer algum erro a coluna que será retornada é igual a recebida.\n",
    "# coluna_nascimento = coluna com os anos de nascimento\n",
    "# ano = ano que será comparado\n",
    "\n",
    "def CalculaIdades(coluna_nascimento, ano):\n",
    "    idades_lista = []\n",
    "    try:\n",
    "        for n in coluna_nascimento:\n",
    "            idades_lista.append(ano - n)\n",
    "        idades = pd.Series(data=idades_lista)\n",
    "        return idades\n",
    "    except:\n",
    "        print(\"Erro\")\n",
    "        return coluna_nascimento\n",
    "# ---------------------------------------------------------------------------------------- #"
   ]
  },
  {
   "cell_type": "markdown",
   "id": "0e5b3953",
   "metadata": {},
   "source": [
    "Ordem dos valores:"
   ]
  },
  {
   "cell_type": "code",
   "execution_count": null,
   "id": "be4d714b",
   "metadata": {},
   "outputs": [],
   "source": [
    "# --------------------------------------------------------------- #\n",
    "# Recebe uma coluna e retorna uma lista com os valores da coluna.\n",
    "# coluna = Coluna com os valores.\n",
    "\n",
    "def ColunaValores(coluna):\n",
    "    valores_lista = [] \n",
    "    for valor in coluna:\n",
    "        if valor not in valores_lista:\n",
    "            valores_lista.append(valor)\n",
    "    return valores_lista\n",
    "# --------------------------------------------------------------- #"
   ]
  },
  {
   "cell_type": "markdown",
   "id": "06616262",
   "metadata": {},
   "source": [
    "Pré-processamento:"
   ]
  },
  {
   "cell_type": "code",
   "execution_count": null,
   "id": "7ee5b362",
   "metadata": {},
   "outputs": [],
   "source": [
    "def ProcessamentoBinario(df, ano, colunas_remover = [], colunas_ordem = []):\n",
    "    df_copia = df.copy()\n",
    "    try:\n",
    "        # Criação:\n",
    "        # parte 1\n",
    "        df_copia['HOMEM'] = ColunaStrInt(df['SEXO'], {\"F\" : 0, \"M\" : 1})\n",
    "        df_copia['MULHER'] = ColunaStrInt(df['SEXO'], {\"F\" : 1, \"M\" : 0})\n",
    "        df_copia['DEFICIENCIA'] = ColunaStrInt(df['DEFICIENCIA'], {\"S\" : 1, \"N\" : 0})\n",
    "        \n",
    "        # Parte 2 : colunas _num\n",
    "        df_copia = Colunas_num(df, [\"CAMPUS\",\"BAIRRO_ENDERECO\",\"CIDADE_ENDERECO\",\"TIPO_COTA\"])\n",
    "        \n",
    "        # Parte 3: ensino PAI/MAE\n",
    "        df_copia['FUNDAMENTAL_PAI'] = ColunaStrInt(df['ESCOLARIDADE_PAI'], {\"ENSINO FUNDAMENTAL INCOMPLETO\" : 1}, 0)\n",
    "        df_copia['ENSINO MEDIO_PAI'] = ColunaStrInt(df['ESCOLARIDADE_PAI'], {\"ENSINO MEDIO\" : 1}, 0)\n",
    "        df_copia['ENSINO SUPERIOR_PAI'] = ColunaStrInt(df['ESCOLARIDADE_PAI'], {\"ENSINO SUPERIOR\" : 1}, 0)\n",
    "        df_copia['FUNDAMENTAL_MAE'] = ColunaStrInt(df['ESCOLARIDADE_MAE'], {\"ENSINO FUNDAMENTAL INCOMPLETO\" : 1}, 0)\n",
    "        df_copia['ENSINO MEDIO_MAE'] = ColunaStrInt(df['ESCOLARIDADE_MAE'], {\"ENSINO MEDIO\" : 1}, 0)\n",
    "        df_copia['ENSINO SUPERIOR_MAE'] = ColunaStrInt(df['ESCOLARIDADE_MAE'], {\"ENSINO SUPERIOR\" : 1}, 0)\n",
    "        \n",
    "        # Parte 4: idades\n",
    "        df_copia[\"IDADE\"] = CalculaIdades(df[\"ANO_NASCIMENTO\"], ano)\n",
    "        \n",
    "        # Remoção:\n",
    "        colunas_remover = ['CD_DISCENTE', 'ANO_INGRESSO', 'SEMESTRE_INGRESSO', 'TIPO_INGRESSO', 'CURSO', 'NATURALIDADE', \n",
    "                           \"SEXO\", 'PAIS_NATURALIDADE','UF_NATURALIDADE', 'UF_ENDERECO', 'COTA', \"ESCOLARIDADE_PAI\",\n",
    "                           \"ESCOLARIDADE_MAE\",]\n",
    "        df_copia = RemoveColunas(df_copia, colunas_remover)\n",
    "        \n",
    "        # Ordenação:\n",
    "        colunas_ordem = [\"COD_CURSO\",\"ANO_NASCIMENTO\", \"IDADE\",\"DEFICIENCIA\",\"HOMEM\",\"MULHER\",\"CAMPUS_num\",\n",
    "                         \"BAIRRO_ENDERECO_num\", \"CIDADE_ENDERECO_num\",\"TIPO_COTA_num\",\"FUNDAMENTAL_PAI\",\"ENSINO MEDIO_PAI\",\n",
    "                         \"ENSINO SUPERIOR_PAI\", \"FUNDAMENTAL_MAE\",\"ENSINO MEDIO_MAE\",\"ENSINO SUPERIOR_MAE\"]\n",
    "        df_copia = df[colunas_ordem]\n",
    "        \n",
    "        return df_copia\n",
    "    except:\n",
    "        print(\"Erro\")\n",
    "        return df"
   ]
  },
  {
   "cell_type": "markdown",
   "id": "0dc72690",
   "metadata": {},
   "source": [
    "Dados Geográficos:"
   ]
  },
  {
   "cell_type": "code",
   "execution_count": null,
   "id": "3e7576b3",
   "metadata": {},
   "outputs": [],
   "source": [
    "#Gera dataframe com quantidade de alunos de cada Cidade\n",
    "def dfCidades(dfall, dfpe):\n",
    "    cidades = dfall['NATURALIDADE'].value_counts().to_frame()\n",
    "    cidades = cidades.rename_axis('NM_MUN').reset_index()\n",
    "    cidades.rename(columns={'NATURALIDADE':'Alunos'}, inplace=True)\n",
    "    dfpe['NM_MUN'] = dfpe['NM_MUN'].str.upper()\n",
    "    map_and_stats_pe=dfpe.merge(cidades, on=\"NM_MUN\")\n",
    "    map_and_stats_pe['Indice'] = map_and_stats_pe.index\n",
    "    return map_and_stats_pe\n",
    "\n",
    "#Gera dataframe com quantidade de alunos de cada Bairro\n",
    "def dfBairros(dfall, dfrecife):\n",
    "    bairros = dfall['BAIRRO_ENDERECO'].value_counts().to_frame()\n",
    "    bairros = bairros.rename_axis('bairro_nome_ca').reset_index()\n",
    "    bairros.rename(columns={'BAIRRO_ENDERECO':'Alunos'}, inplace=True)\n",
    "    map_and_stats_rec=dfrecife.merge(bairros, on=\"bairro_nome_ca\")\n",
    "    map_and_stats_rec['Indice'] = map_and_stats_rec.index\n",
    "    return map_and_stats_rec\n",
    "\n",
    "#Ajusta tabela de bairros/cidades para legenda no gráfico:\n",
    "def ajusteTabela(relacao):\n",
    "    alpha = 0\n",
    "    omega = 11\n",
    "    frase = \"\"\n",
    "    for i in range(12):\n",
    "        frase = frase  + str(relacao[alpha:omega]).replace(\"[\",\"\").replace(\"]\",\"\") + \"\\n\"\n",
    "        alpha = omega\n",
    "        omega +=9\n",
    "    frase = frase.rstrip()\n",
    "    return frase"
   ]
  }
 ],
 "metadata": {
  "kernelspec": {
   "display_name": "Python 3 (ipykernel)",
   "language": "python",
   "name": "python3"
  },
  "language_info": {
   "codemirror_mode": {
    "name": "ipython",
    "version": 3
   },
   "file_extension": ".py",
   "mimetype": "text/x-python",
   "name": "python",
   "nbconvert_exporter": "python",
   "pygments_lexer": "ipython3",
   "version": "3.9.0"
  },
  "vscode": {
   "interpreter": {
    "hash": "67f1dc6f6f712f7142079021955b91e049abb319dcfdc9eed010dd73dd4d845d"
   }
  }
 },
 "nbformat": 4,
 "nbformat_minor": 5
}
