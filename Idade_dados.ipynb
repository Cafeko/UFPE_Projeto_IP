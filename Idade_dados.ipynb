{
 "cells": [
  {
   "cell_type": "code",
   "execution_count": 206,
   "id": "c81c8068",
   "metadata": {},
   "outputs": [],
   "source": [
    "import seaborn as sns\n",
    "import matplotlib.pyplot as plt\n",
    "import pandas as pd "
   ]
  },
  {
   "cell_type": "code",
   "execution_count": 228,
   "id": "969d5741",
   "metadata": {},
   "outputs": [],
   "source": [
    "%run ./Dados.ipynb\n",
    "%run ./Funcoes.ipynb"
   ]
  },
  {
   "cell_type": "markdown",
   "id": "26ac1128",
   "metadata": {},
   "source": [
    "2021"
   ]
  },
  {
   "cell_type": "code",
   "execution_count": 232,
   "id": "60043f89",
   "metadata": {},
   "outputs": [
    {
     "data": {
      "text/html": [
       "<div>\n",
       "<style scoped>\n",
       "    .dataframe tbody tr th:only-of-type {\n",
       "        vertical-align: middle;\n",
       "    }\n",
       "\n",
       "    .dataframe tbody tr th {\n",
       "        vertical-align: top;\n",
       "    }\n",
       "\n",
       "    .dataframe thead th {\n",
       "        text-align: right;\n",
       "    }\n",
       "</style>\n",
       "<table border=\"1\" class=\"dataframe\">\n",
       "  <thead>\n",
       "    <tr style=\"text-align: right;\">\n",
       "      <th></th>\n",
       "      <th>SEXO</th>\n",
       "      <th>CURSO</th>\n",
       "      <th>IDADE</th>\n",
       "    </tr>\n",
       "  </thead>\n",
       "  <tbody>\n",
       "    <tr>\n",
       "      <th>0</th>\n",
       "      <td>F</td>\n",
       "      <td>ADMINISTRAÇÃO -CAA</td>\n",
       "      <td>19</td>\n",
       "    </tr>\n",
       "    <tr>\n",
       "      <th>1</th>\n",
       "      <td>M</td>\n",
       "      <td>ADMINISTRAÇÃO -CAA</td>\n",
       "      <td>19</td>\n",
       "    </tr>\n",
       "    <tr>\n",
       "      <th>2</th>\n",
       "      <td>M</td>\n",
       "      <td>ADMINISTRAÇÃO -CAA</td>\n",
       "      <td>21</td>\n",
       "    </tr>\n",
       "    <tr>\n",
       "      <th>3</th>\n",
       "      <td>F</td>\n",
       "      <td>ADMINISTRAÇÃO -CAA</td>\n",
       "      <td>21</td>\n",
       "    </tr>\n",
       "    <tr>\n",
       "      <th>4</th>\n",
       "      <td>F</td>\n",
       "      <td>ADMINISTRAÇÃO -CAA</td>\n",
       "      <td>19</td>\n",
       "    </tr>\n",
       "    <tr>\n",
       "      <th>...</th>\n",
       "      <td>...</td>\n",
       "      <td>...</td>\n",
       "      <td>...</td>\n",
       "    </tr>\n",
       "    <tr>\n",
       "      <th>4630</th>\n",
       "      <td>F</td>\n",
       "      <td>SAÚDE COLETIVA - CAV</td>\n",
       "      <td>20</td>\n",
       "    </tr>\n",
       "    <tr>\n",
       "      <th>4631</th>\n",
       "      <td>F</td>\n",
       "      <td>SAÚDE COLETIVA - CAV</td>\n",
       "      <td>19</td>\n",
       "    </tr>\n",
       "    <tr>\n",
       "      <th>4632</th>\n",
       "      <td>F</td>\n",
       "      <td>SAÚDE COLETIVA - CAV</td>\n",
       "      <td>18</td>\n",
       "    </tr>\n",
       "    <tr>\n",
       "      <th>4633</th>\n",
       "      <td>F</td>\n",
       "      <td>SAÚDE COLETIVA - CAV</td>\n",
       "      <td>18</td>\n",
       "    </tr>\n",
       "    <tr>\n",
       "      <th>4634</th>\n",
       "      <td>M</td>\n",
       "      <td>SAÚDE COLETIVA - CAV</td>\n",
       "      <td>37</td>\n",
       "    </tr>\n",
       "  </tbody>\n",
       "</table>\n",
       "<p>4635 rows × 3 columns</p>\n",
       "</div>"
      ],
      "text/plain": [
       "     SEXO                 CURSO  IDADE\n",
       "0       F    ADMINISTRAÇÃO -CAA     19\n",
       "1       M    ADMINISTRAÇÃO -CAA     19\n",
       "2       M    ADMINISTRAÇÃO -CAA     21\n",
       "3       F    ADMINISTRAÇÃO -CAA     21\n",
       "4       F    ADMINISTRAÇÃO -CAA     19\n",
       "...   ...                   ...    ...\n",
       "4630    F  SAÚDE COLETIVA - CAV     20\n",
       "4631    F  SAÚDE COLETIVA - CAV     19\n",
       "4632    F  SAÚDE COLETIVA - CAV     18\n",
       "4633    F  SAÚDE COLETIVA - CAV     18\n",
       "4634    M  SAÚDE COLETIVA - CAV     37\n",
       "\n",
       "[4635 rows x 3 columns]"
      ]
     },
     "metadata": {},
     "output_type": "display_data"
    }
   ],
   "source": [
    "df_idades_21 = df21.copy()\n",
    "df_idades_21 = ParteDataFrame(df_idades_21, [\"ANO_NASCIMENTO\", \"SEXO\", \"CURSO\"])\n",
    "df_idades_21[\"IDADE\"] = CalculaIdades(df_idades_21[\"ANO_NASCIMENTO\"], 2021)\n",
    "df_idades_21 = RemoveColunas(df_idades_21, \"ANO_NASCIMENTO\")\n",
    "\n",
    "display(df_idades_21)"
   ]
  },
  {
   "cell_type": "code",
   "execution_count": 231,
   "id": "71b126ee",
   "metadata": {},
   "outputs": [
    {
     "data": {
      "text/plain": [
       "HUMANAS    1851\n",
       "EXATAS     1639\n",
       "SAUDE      1145\n",
       "Name: AREA, dtype: int64"
      ]
     },
     "execution_count": 231,
     "metadata": {},
     "output_type": "execute_result"
    }
   ],
   "source": [
    "lista = []\n",
    "\n",
    "for nome in df_idades_21[\"CURSO\"]:\n",
    "    for chave in curso.keys():\n",
    "        if nome in curso[chave]:\n",
    "            lista.append(chave)\n",
    "df_idades_21[\"AREA\"] = lista\n",
    "df_idades_21[\"AREA\"].value_counts()"
   ]
  },
  {
   "cell_type": "code",
   "execution_count": 132,
   "id": "5a080ae6",
   "metadata": {},
   "outputs": [
    {
     "data": {
      "image/png": "[encoded data removed]",
      "text/plain": [
       "<Figure size 720x360 with 1 Axes>"
      ]
     },
     "metadata": {
      "needs_background": "light"
     },
     "output_type": "display_data"
    }
   ],
   "source": [
    "plt.figure(figsize=(10,5))\n",
    "grafico_idade1 = sns.barplot(data=df_idades_21, x=\"SEXO\", y=\"IDADE\", errorbar=None)\n",
    "plt.show(grafico_idade1)"
   ]
  },
  {
   "cell_type": "code",
   "execution_count": 131,
   "id": "7126d0a0",
   "metadata": {},
   "outputs": [
    {
     "data": {
      "image/png": "[encoded data removed]",
      "text/plain": [
       "<Figure size 404.625x360 with 1 Axes>"
      ]
     },
     "metadata": {
      "needs_background": "light"
     },
     "output_type": "display_data"
    }
   ],
   "source": [
    "grafico_idade2 = sns.displot(data=df_idades_21, x=\"SEXO\", y=\"IDADE\", hue=\"SEXO\")\n",
    "plt.show(grafico_idade2)"
   ]
  }
 ],
 "metadata": {
  "kernelspec": {
   "display_name": "Python 3 (ipykernel)",
   "language": "python",
   "name": "python3"
  },
  "language_info": {
   "codemirror_mode": {
    "name": "ipython",
    "version": 3
   },
   "file_extension": ".py",
   "mimetype": "text/x-python",
   "name": "python",
   "nbconvert_exporter": "python",
   "pygments_lexer": "ipython3",
   "version": "3.9.12"
  }
 },
 "nbformat": 4,
 "nbformat_minor": 5
}
