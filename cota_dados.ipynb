{
 "cells": [
  {
   "cell_type": "code",
   "execution_count": 1,
   "id": "e8f1e405",
   "metadata": {},
   "outputs": [],
   "source": [
    "import pandas as pd \n",
    "import seaborn as sns \n",
    "import matplotlib.pyplot as plt"
   ]
  },
  {
   "cell_type": "code",
   "execution_count": 2,
   "id": "5520f52c",
   "metadata": {},
   "outputs": [],
   "source": [
    "%run ./Dados.ipynb\n",
    "%run ./Funcoes.ipynb"
   ]
  },
  {
   "cell_type": "code",
   "execution_count": 4,
   "id": "21e37030",
   "metadata": {},
   "outputs": [],
   "source": [
    "def ProcessamentoCotas(df):\n",
    "    copia_df = df.copy()\n",
    "    try:\n",
    "        copia_df = ParteDataFrame(copia_df, [\"TIPO_COTA\", \"SEXO\"])\n",
    "        copia_df[\"COTA\"] = GruposDicio(copia_df[\"TIPO_COTA\"], cotas)\n",
    "        copia_df = pd.concat([ColLoc(copia_df, \"SEXO\", \"F\"), ColLoc(copia_df, \"SEXO\", \"M\")])\n",
    "        copia_df = pd.concat([ColLoc(copia_df, \"COTA\", \"RACIAL\"), ColLoc(copia_df, \"COTA\", \"AMPLA CONCORRENCIA\"), ColLoc(copia_df, \"COTA\", \"BAIXA RENDA\"), ColLoc(copia_df, \"COTA\", \"DEFICIENTE\"), ColLoc(copia_df, \"COTA\", \"PUBLICA\")])\n",
    "        return copia_df\n",
    "    except:\n",
    "        print(\"Erro\")\n",
    "        return df"
   ]
  },
  {
   "cell_type": "code",
   "execution_count": 5,
   "id": "6ce06a21",
   "metadata": {},
   "outputs": [],
   "source": [
    "df_cotas21 = ProcessamentoCotas(df21)\n",
    "df_cotas22 = ProcessamentoCotas(df22)"
   ]
  },
  {
   "cell_type": "code",
   "execution_count": 6,
   "id": "f6d9c2f8",
   "metadata": {},
   "outputs": [
    {
     "data": {
      "text/html": [
       "<div>\n",
       "<style scoped>\n",
       "    .dataframe tbody tr th:only-of-type {\n",
       "        vertical-align: middle;\n",
       "    }\n",
       "\n",
       "    .dataframe tbody tr th {\n",
       "        vertical-align: top;\n",
       "    }\n",
       "\n",
       "    .dataframe thead th {\n",
       "        text-align: right;\n",
       "    }\n",
       "</style>\n",
       "<table border=\"1\" class=\"dataframe\">\n",
       "  <thead>\n",
       "    <tr style=\"text-align: right;\">\n",
       "      <th></th>\n",
       "      <th>TIPO_COTA</th>\n",
       "      <th>SEXO</th>\n",
       "      <th>COTA</th>\n",
       "    </tr>\n",
       "  </thead>\n",
       "  <tbody>\n",
       "    <tr>\n",
       "      <th>4</th>\n",
       "      <td>L6</td>\n",
       "      <td>F</td>\n",
       "      <td>RACIAL</td>\n",
       "    </tr>\n",
       "    <tr>\n",
       "      <th>5</th>\n",
       "      <td>L2</td>\n",
       "      <td>F</td>\n",
       "      <td>RACIAL</td>\n",
       "    </tr>\n",
       "    <tr>\n",
       "      <th>7</th>\n",
       "      <td>L2</td>\n",
       "      <td>F</td>\n",
       "      <td>RACIAL</td>\n",
       "    </tr>\n",
       "    <tr>\n",
       "      <th>21</th>\n",
       "      <td>L2</td>\n",
       "      <td>F</td>\n",
       "      <td>RACIAL</td>\n",
       "    </tr>\n",
       "    <tr>\n",
       "      <th>23</th>\n",
       "      <td>L2</td>\n",
       "      <td>F</td>\n",
       "      <td>RACIAL</td>\n",
       "    </tr>\n",
       "    <tr>\n",
       "      <th>...</th>\n",
       "      <td>...</td>\n",
       "      <td>...</td>\n",
       "      <td>...</td>\n",
       "    </tr>\n",
       "    <tr>\n",
       "      <th>4483</th>\n",
       "      <td>L5</td>\n",
       "      <td>M</td>\n",
       "      <td>PUBLICA</td>\n",
       "    </tr>\n",
       "    <tr>\n",
       "      <th>4494</th>\n",
       "      <td>L5</td>\n",
       "      <td>M</td>\n",
       "      <td>PUBLICA</td>\n",
       "    </tr>\n",
       "    <tr>\n",
       "      <th>4520</th>\n",
       "      <td>L5</td>\n",
       "      <td>M</td>\n",
       "      <td>PUBLICA</td>\n",
       "    </tr>\n",
       "    <tr>\n",
       "      <th>4525</th>\n",
       "      <td>L5</td>\n",
       "      <td>M</td>\n",
       "      <td>PUBLICA</td>\n",
       "    </tr>\n",
       "    <tr>\n",
       "      <th>4626</th>\n",
       "      <td>L5</td>\n",
       "      <td>M</td>\n",
       "      <td>PUBLICA</td>\n",
       "    </tr>\n",
       "  </tbody>\n",
       "</table>\n",
       "<p>4635 rows × 3 columns</p>\n",
       "</div>"
      ],
      "text/plain": [
       "     TIPO_COTA SEXO     COTA\n",
       "4           L6    F   RACIAL\n",
       "5           L2    F   RACIAL\n",
       "7           L2    F   RACIAL\n",
       "21          L2    F   RACIAL\n",
       "23          L2    F   RACIAL\n",
       "...        ...  ...      ...\n",
       "4483        L5    M  PUBLICA\n",
       "4494        L5    M  PUBLICA\n",
       "4520        L5    M  PUBLICA\n",
       "4525        L5    M  PUBLICA\n",
       "4626        L5    M  PUBLICA\n",
       "\n",
       "[4635 rows x 3 columns]"
      ]
     },
     "execution_count": 6,
     "metadata": {},
     "output_type": "execute_result"
    }
   ],
   "source": [
    "df_cotas21"
   ]
  },
  {
   "cell_type": "code",
   "execution_count": 7,
   "id": "78358263",
   "metadata": {},
   "outputs": [
    {
     "data": {
      "text/html": [
       "<div>\n",
       "<style scoped>\n",
       "    .dataframe tbody tr th:only-of-type {\n",
       "        vertical-align: middle;\n",
       "    }\n",
       "\n",
       "    .dataframe tbody tr th {\n",
       "        vertical-align: top;\n",
       "    }\n",
       "\n",
       "    .dataframe thead th {\n",
       "        text-align: right;\n",
       "    }\n",
       "</style>\n",
       "<table border=\"1\" class=\"dataframe\">\n",
       "  <thead>\n",
       "    <tr style=\"text-align: right;\">\n",
       "      <th></th>\n",
       "      <th>TIPO_COTA</th>\n",
       "      <th>SEXO</th>\n",
       "      <th>COTA</th>\n",
       "    </tr>\n",
       "  </thead>\n",
       "  <tbody>\n",
       "    <tr>\n",
       "      <th>5</th>\n",
       "      <td>L2</td>\n",
       "      <td>F</td>\n",
       "      <td>RACIAL</td>\n",
       "    </tr>\n",
       "    <tr>\n",
       "      <th>8</th>\n",
       "      <td>L6</td>\n",
       "      <td>F</td>\n",
       "      <td>RACIAL</td>\n",
       "    </tr>\n",
       "    <tr>\n",
       "      <th>12</th>\n",
       "      <td>L2</td>\n",
       "      <td>F</td>\n",
       "      <td>RACIAL</td>\n",
       "    </tr>\n",
       "    <tr>\n",
       "      <th>13</th>\n",
       "      <td>L6</td>\n",
       "      <td>F</td>\n",
       "      <td>RACIAL</td>\n",
       "    </tr>\n",
       "    <tr>\n",
       "      <th>19</th>\n",
       "      <td>L2</td>\n",
       "      <td>F</td>\n",
       "      <td>RACIAL</td>\n",
       "    </tr>\n",
       "    <tr>\n",
       "      <th>...</th>\n",
       "      <td>...</td>\n",
       "      <td>...</td>\n",
       "      <td>...</td>\n",
       "    </tr>\n",
       "    <tr>\n",
       "      <th>4763</th>\n",
       "      <td>L5</td>\n",
       "      <td>M</td>\n",
       "      <td>PUBLICA</td>\n",
       "    </tr>\n",
       "    <tr>\n",
       "      <th>4765</th>\n",
       "      <td>L5</td>\n",
       "      <td>M</td>\n",
       "      <td>PUBLICA</td>\n",
       "    </tr>\n",
       "    <tr>\n",
       "      <th>4766</th>\n",
       "      <td>L5</td>\n",
       "      <td>M</td>\n",
       "      <td>PUBLICA</td>\n",
       "    </tr>\n",
       "    <tr>\n",
       "      <th>4786</th>\n",
       "      <td>L5</td>\n",
       "      <td>M</td>\n",
       "      <td>PUBLICA</td>\n",
       "    </tr>\n",
       "    <tr>\n",
       "      <th>4833</th>\n",
       "      <td>L5</td>\n",
       "      <td>M</td>\n",
       "      <td>PUBLICA</td>\n",
       "    </tr>\n",
       "  </tbody>\n",
       "</table>\n",
       "<p>4845 rows × 3 columns</p>\n",
       "</div>"
      ],
      "text/plain": [
       "     TIPO_COTA SEXO     COTA\n",
       "5           L2    F   RACIAL\n",
       "8           L6    F   RACIAL\n",
       "12          L2    F   RACIAL\n",
       "13          L6    F   RACIAL\n",
       "19          L2    F   RACIAL\n",
       "...        ...  ...      ...\n",
       "4763        L5    M  PUBLICA\n",
       "4765        L5    M  PUBLICA\n",
       "4766        L5    M  PUBLICA\n",
       "4786        L5    M  PUBLICA\n",
       "4833        L5    M  PUBLICA\n",
       "\n",
       "[4845 rows x 3 columns]"
      ]
     },
     "execution_count": 7,
     "metadata": {},
     "output_type": "execute_result"
    }
   ],
   "source": [
    "df_cotas22"
   ]
  },
  {
   "cell_type": "code",
   "execution_count": 8,
   "id": "18d1d216",
   "metadata": {},
   "outputs": [
    {
     "data": {
      "image/png": "[encoded data removed]",
      "text/plain": [
       "<Figure size 2562x500 with 5 Axes>"
      ]
     },
     "metadata": {},
     "output_type": "display_data"
    }
   ],
   "source": [
    "grafico2 = sns.displot(data=df_cotas22, x=\"SEXO\", col=\"COTA\", hue =\"SEXO\",palette=CoresPalette(df_cotas22[\"SEXO\"], sexo_palette))\n",
    "grafico2.set(xlabel='Sexo', ylabel='Quantidade')\n",
    "\n",
    "plt.show(grafico2)"
   ]
  },
  {
   "cell_type": "code",
   "execution_count": 9,
   "id": "9d6b6620",
   "metadata": {},
   "outputs": [
    {
     "data": {
      "image/png": "[encoded data removed]",
      "text/plain": [
       "<Figure size 2562x500 with 5 Axes>"
      ]
     },
     "metadata": {},
     "output_type": "display_data"
    }
   ],
   "source": [
    "grafico1 = sns.displot(data=df_cotas21, x=\"SEXO\", col=\"COTA\", hue =\"SEXO\",palette=CoresPalette(df_cotas22[\"SEXO\"], sexo_palette))\n",
    "grafico1.set(xlabel='Sexo', ylabel='Quantidade') \n",
    "\n",
    "plt.show(grafico1)"
   ]
  },
  {
   "cell_type": "code",
   "execution_count": null,
   "id": "02e593d6",
   "metadata": {},
   "outputs": [],
   "source": []
  },
  {
   "cell_type": "code",
   "execution_count": null,
   "id": "81938955",
   "metadata": {},
   "outputs": [],
   "source": []
  }
 ],
 "metadata": {
  "kernelspec": {
   "display_name": "Python 3.9.13 ('venv': venv)",
   "language": "python",
   "name": "python3"
  },
  "language_info": {
   "codemirror_mode": {
    "name": "ipython",
    "version": 3
   },
   "file_extension": ".py",
   "mimetype": "text/x-python",
   "name": "python",
   "nbconvert_exporter": "python",
   "pygments_lexer": "ipython3",
   "version": "3.9.13"
  },
  "vscode": {
   "interpreter": {
    "hash": "2198a945d56df85c223ec906463282a4e12d1be3c36df3f629a03f9e92d1280b"
   }
  }
 },
 "nbformat": 4,
 "nbformat_minor": 5
}
