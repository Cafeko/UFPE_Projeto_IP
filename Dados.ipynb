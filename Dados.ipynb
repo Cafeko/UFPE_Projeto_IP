{
 "cells": [
  {
   "cell_type": "code",
   "execution_count": 1,
   "metadata": {
    "id": "9U0c78l-VJUi"
   },
   "outputs": [],
   "source": [
    "import pandas as pd"
   ]
  },
  {
   "cell_type": "markdown",
   "metadata": {},
   "source": [
    "DataFrames:"
   ]
  },
  {
   "cell_type": "code",
   "execution_count": 2,
   "metadata": {},
   "outputs": [],
   "source": [
    "df22 = pd.read_csv('discentes-2022-ufpe.csv') \n",
    "df21 = pd.read_csv('discentes-ingressos-cursos-graduacao-2021-ufpe.csv')"
   ]
  },
  {
   "cell_type": "markdown",
   "metadata": {},
   "source": [
    "Dicionários:"
   ]
  },
  {
   "cell_type": "code",
   "execution_count": 3,
   "metadata": {},
   "outputs": [],
   "source": [
    "cursos_areas = {\"HUMANAS\":['TURISMO', \"HOTELARIA\", 'TEATRO', 'PSICOLOGIA', 'MUSICA - CANTO', 'MUSEOLOGIA', 'LETRAS PORTUGUÊS - LICENCIATURA', 'LETRAS ESPANHOL - LICENCIATURA', \"LETRAS INGLÊS - LICENCIATURA\", 'LETRAS - BACHARELADO', \"LETRAS-LÍNGUA PORTUGUESA-EAD\", \"LETRAS-LÍNGUA ESPANHOLA-EAD\", \"LETRAS LIBRAS - LICENCIATURA\",'HISTÓRIA - BACHARELADO', 'DIREITO', \"ADMINISTRAÇÃO -CAA\", 'ADMINISTRAÇÃO', 'ARTES VISUAIS', \"COMUNICAÇÃO SOCIAL - CAA\", \"DESIGN - CAA\", 'ARQUEOLOGIA', 'ARTES VISUAIS - BACHARELADO', 'BIBLIOTECONOMIA',  'CIÊNCIA POLÍTICA', 'CIÊNCIAS SOCIAIS - BACHARELADO', 'CIÊNCIAS SOCIAIS - LICENCIATURA', 'CINEMA E AUDIOVISUAL', 'DANÇA',  'HISTÓRIA - LICENCIATURA', 'FILOSOFIA-LICENCIATURA', 'EXPRESSÃO GRÁFICA', 'FILOSOFIA-BACHARELADO', 'GEOGRAFIA - BACHARELADO', 'GEOGRAFIA - LICENCIATURA', \"GEOGRAFIA - EAD\", 'JORNALISMO', 'LETRAS FRANCÊS - LICENCIATURA', \"MÚSICA - INSTRUMENTO\", 'MUSICA - INSTRUMENTO', \"MÚSICA - LICENCIATURA\", 'MUSICA - LICENCIATURA', 'PEDAGOGIA', 'DESIGN', 'SERVIÇO SOCIAL', 'SECRETARIADO EXECUTIVO', \"PEDAGOGIA - CAA\", \"INTERCULTURAL INDÍGENA - CAA\", \"MÚSICA - CANTO\"], \n",
    "                \"EXATAS\":['GESTÃO DA INFORMAÇÃO', 'OCEANOGRAFIA', 'MATEMÁTICA - BACHARELADO', 'ENGENHARIA QUÍMICA', 'ENGENHARIA DE ALIMENTOS', 'ENGENHARIA CIVIL', 'GEOLOGIA', \"ARQUITETURA E URBANISMO\", 'CIÊNCIAS ATUARIAIS', 'ABI - ENGENHARIA','CIÊNCIA DA COMPUTAÇÃO - CIN', 'CIÊNCIAS CONTABEIS', \"CIÊNCIAS CONTÁBEIS\", 'CIÊNCIAS ECONÔMICAS', 'ENGENHARIA CARTOGRÁFICA E DE AGRIMENSURA', \"CIÊNCIAS ECONÔMICAS - CAA\", 'ENGENHARIA BIOMÉDICA', 'ENGENHARIA DE CONTROLE E AUTOMAÇÃO', \"ENGENHARIA CIVIL - CAA\", 'ENGENHARIA DE ENERGIA', 'ENGENHARIA DE MATERIAIS', 'ENGENHARIA DE MINAS', 'ENGENHARIA DE PRODUÇÃO', \"ENGENHARIA DE PRODUÇÃO - CAA\", 'ENGENHARIA ELÉTRICA', 'QUÍMICA - LICENCIATURA', 'SISTEMAS DE INFORMAÇÃO', 'ESTATÍSTICA', 'QUÍMICA - BACHARELADO', 'ENGENHARIA ELETRÔNICA', \"ENGENHARIA MECÂNICA\", 'ENGENHARIA DA COMPUTAÇÃO', \"MATEMÁTICA - LICENCIATURA - CAA\", \"QUÍMICA - LICENCIATURA - CAA\", 'FÍSICA - BACHARELADO', 'FÍSICA - LICENCIATURA', \"FÍSICA - LICENCIATURA - CAA\",'QUÍMICA INDUSTRIAL','MATEMÁTICA - LICENCIATURA', \"MATEMÁTICA-EAD\", \"INTERDISCIPLINAR EM CIÊNCIA E TECNOLOGIA\", \"CIÊNCIAS CONTÁBEIS - EAD\", \"ENGENHARIA MECÂNICA\", \"ENGENHARIA NAVAL\", \"ENGENHARIA DE TELECOMUNICAÇÕES\"], \n",
    "                \"SAUDE\": ['NUTRIÇÃO - CAV', 'ENFERMAGEM - CAV', 'EDUCAÇÃO FÍSICA-BACHARELADO-CAV', 'TERAPIA OCUPACIONAL', 'ODONTOLOGIA', 'NUTRIÇÃO', 'MEDICINA', 'ENFERMAGEM', 'EDUCAÇÃO FÍSICA - BACHARELADO', 'EDUCAÇÃO FÍSICA', 'BIOMEDICINA', 'CIÊNCIAS BIOLÓGICAS - BACHARELADO', 'CIÊNCIAS BIOLÓGICAS - LICENCIATURA', 'CIÊNCIAS BIOLÓGICAS- ÊNFASE C. AMBIENTAIS', \"CIÊNCIAS BIOLÓGICAS - ÊNFASE CIÊNCIAS AMBIENTAIS\", 'FISIOTERAPIA', 'EDUCAÇÃO FÍSICA - LICENCIATURA - CAV', \"FARMACIA\", 'FONOAUDIOLOGIA', \"MEDICINA - CAA\", 'CIÊNCIAS BIOLÓGICAS - CAV', 'CIÊNCIAS BIOLÓGICAS-LICENCIATURA-EAD','SAÚDE COLETIVA - CAV', \"FARMÁCIA\"],\n",
    "                \"ISOLADAS\": [\"ISOLADAS\"]}"
   ]
  },
  {
   "cell_type": "code",
   "execution_count": 4,
   "metadata": {},
   "outputs": [],
   "source": [
    "cotas = {'AMPLA CONCORRENCIA': ['A0'], #sem cota\n",
    "        'RACIAL': ['L6','L2'], #acima de 1,5 salário mínimo; abaixo de 1,5 salário mínimo\n",
    "        'BAIXA RENDA': ['L1'], #abaixo de 1,5 salário mínimo\n",
    "        'DEFICIENTE': ['L13','L9','L14','L10'], #independe da renda; abaixo de 1,5 salário mínimo\n",
    "        'PUBLICA': ['L5']}#independe da renda/ escola pública"
   ]
  },
  {
   "cell_type": "code",
   "execution_count": 5,
   "metadata": {},
   "outputs": [],
   "source": [
    "sexo_palette = {\"M\":\"blue\", \"F\":\"red\"}"
   ]
  }
 ],
 "metadata": {
  "colab": {
   "collapsed_sections": [],
   "provenance": []
  },
  "kernelspec": {
   "display_name": "Python 3.9.13 ('venv': venv)",
   "language": "python",
   "name": "python3"
  },
  "language_info": {
   "codemirror_mode": {
    "name": "ipython",
    "version": 3
   },
   "file_extension": ".py",
   "mimetype": "text/x-python",
   "name": "python",
   "nbconvert_exporter": "python",
   "pygments_lexer": "ipython3",
   "version": "3.9.13"
  },
  "vscode": {
   "interpreter": {
    "hash": "2198a945d56df85c223ec906463282a4e12d1be3c36df3f629a03f9e92d1280b"
   }
  }
 },
 "nbformat": 4,
 "nbformat_minor": 1
}
