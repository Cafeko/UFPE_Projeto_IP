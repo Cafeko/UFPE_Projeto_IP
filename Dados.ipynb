{
 "cells": [
  {
   "cell_type": "code",
   "execution_count": 1,
   "metadata": {
    "id": "9U0c78l-VJUi"
   },
   "outputs": [],
   "source": [
    "import pandas as pd"
   ]
  },
  {
   "cell_type": "markdown",
   "metadata": {},
   "source": [
    "DataFrames:"
   ]
  },
  {
   "cell_type": "code",
   "execution_count": 2,
   "metadata": {},
   "outputs": [],
   "source": [
    "df22 = pd.read_csv('discentes-2022-ufpe.csv') \n",
    "df21 = pd.read_csv('discentes-ingressos-cursos-graduacao-2021-ufpe.csv')"
   ]
  },
  {
   "cell_type": "markdown",
   "metadata": {},
   "source": [
    "Dicionários:"
   ]
  },
  {
   "cell_type": "code",
   "execution_count": 3,
   "metadata": {},
   "outputs": [],
   "source": [
    "# ------------------------------------------------------- #\n",
    "# Dicionário utilizado em 'Quantidade_dados';\n",
    "# Separação de cursos encontrados nas bases de dados por áreas. \n",
    "\n",
    "cursos_areas = {\"HUMANAS\":['TURISMO', \"HOTELARIA\", 'TEATRO', 'PSICOLOGIA', 'MUSICA - CANTO', 'MUSEOLOGIA', 'LETRAS PORTUGUÊS - LICENCIATURA', 'LETRAS ESPANHOL - LICENCIATURA', \"LETRAS INGLÊS - LICENCIATURA\", 'LETRAS - BACHARELADO', \"LETRAS-LÍNGUA PORTUGUESA-EAD\", \"LETRAS-LÍNGUA ESPANHOLA-EAD\", \"LETRAS LIBRAS - LICENCIATURA\",'HISTÓRIA - BACHARELADO', 'DIREITO', \"ADMINISTRAÇÃO -CAA\", 'ADMINISTRAÇÃO', 'ARTES VISUAIS', \"COMUNICAÇÃO SOCIAL - CAA\", \"DESIGN - CAA\", 'ARQUEOLOGIA', 'ARTES VISUAIS - BACHARELADO', 'BIBLIOTECONOMIA',  'CIÊNCIA POLÍTICA', 'CIÊNCIAS SOCIAIS - BACHARELADO', 'CIÊNCIAS SOCIAIS - LICENCIATURA', 'CINEMA E AUDIOVISUAL', 'DANÇA',  'HISTÓRIA - LICENCIATURA', 'FILOSOFIA-LICENCIATURA', 'EXPRESSÃO GRÁFICA', 'FILOSOFIA-BACHARELADO', 'GEOGRAFIA - BACHARELADO', 'GEOGRAFIA - LICENCIATURA', \"GEOGRAFIA - EAD\", 'JORNALISMO', 'LETRAS FRANCÊS - LICENCIATURA', \"MÚSICA - INSTRUMENTO\", 'MUSICA - INSTRUMENTO', \"MÚSICA - LICENCIATURA\", 'MUSICA - LICENCIATURA', 'PEDAGOGIA', 'DESIGN', 'SERVIÇO SOCIAL', 'SECRETARIADO EXECUTIVO', \"PEDAGOGIA - CAA\", \"INTERCULTURAL INDÍGENA - CAA\", \"MÚSICA - CANTO\"], \n",
    "                \"EXATAS\":['GESTÃO DA INFORMAÇÃO', 'OCEANOGRAFIA', 'MATEMÁTICA - BACHARELADO', 'ENGENHARIA QUÍMICA', 'ENGENHARIA DE ALIMENTOS', 'ENGENHARIA CIVIL', 'GEOLOGIA', \"ARQUITETURA E URBANISMO\", 'CIÊNCIAS ATUARIAIS', 'ABI - ENGENHARIA','CIÊNCIA DA COMPUTAÇÃO - CIN', 'CIÊNCIAS CONTABEIS', \"CIÊNCIAS CONTÁBEIS\", 'CIÊNCIAS ECONÔMICAS', 'ENGENHARIA CARTOGRÁFICA E DE AGRIMENSURA', \"CIÊNCIAS ECONÔMICAS - CAA\", 'ENGENHARIA BIOMÉDICA', 'ENGENHARIA DE CONTROLE E AUTOMAÇÃO', \"ENGENHARIA CIVIL - CAA\", 'ENGENHARIA DE ENERGIA', 'ENGENHARIA DE MATERIAIS', 'ENGENHARIA DE MINAS', 'ENGENHARIA DE PRODUÇÃO', \"ENGENHARIA DE PRODUÇÃO - CAA\", 'ENGENHARIA ELÉTRICA', 'QUÍMICA - LICENCIATURA', 'SISTEMAS DE INFORMAÇÃO', 'ESTATÍSTICA', 'QUÍMICA - BACHARELADO', 'ENGENHARIA ELETRÔNICA', \"ENGENHARIA MECÂNICA\", 'ENGENHARIA DA COMPUTAÇÃO', \"MATEMÁTICA - LICENCIATURA - CAA\", \"QUÍMICA - LICENCIATURA - CAA\", 'FÍSICA - BACHARELADO', 'FÍSICA - LICENCIATURA', \"FÍSICA - LICENCIATURA - CAA\",'QUÍMICA INDUSTRIAL','MATEMÁTICA - LICENCIATURA', \"MATEMÁTICA-EAD\", \"INTERDISCIPLINAR EM CIÊNCIA E TECNOLOGIA\", \"CIÊNCIAS CONTÁBEIS - EAD\", \"ENGENHARIA MECÂNICA\", \"ENGENHARIA NAVAL\", \"ENGENHARIA DE TELECOMUNICAÇÕES\"], \n",
    "                \"SAUDE\": ['NUTRIÇÃO - CAV', 'ENFERMAGEM - CAV', 'EDUCAÇÃO FÍSICA-BACHARELADO-CAV', 'TERAPIA OCUPACIONAL', 'ODONTOLOGIA', 'NUTRIÇÃO', 'MEDICINA', 'ENFERMAGEM', 'EDUCAÇÃO FÍSICA - BACHARELADO', 'EDUCAÇÃO FÍSICA', 'BIOMEDICINA', 'CIÊNCIAS BIOLÓGICAS - BACHARELADO', 'CIÊNCIAS BIOLÓGICAS - LICENCIATURA', 'CIÊNCIAS BIOLÓGICAS- ÊNFASE C. AMBIENTAIS', \"CIÊNCIAS BIOLÓGICAS - ÊNFASE CIÊNCIAS AMBIENTAIS\", 'FISIOTERAPIA', 'EDUCAÇÃO FÍSICA - LICENCIATURA - CAV', \"FARMACIA\", 'FONOAUDIOLOGIA', \"MEDICINA - CAA\", 'CIÊNCIAS BIOLÓGICAS - CAV', 'CIÊNCIAS BIOLÓGICAS-LICENCIATURA-EAD','SAÚDE COLETIVA - CAV', \"FARMÁCIA\"],\n",
    "                \"ISOLADAS\": [\"ISOLADAS\"]}\n",
    "# ------------------------------------------------------- #"
   ]
  },
  {
   "cell_type": "code",
   "execution_count": 4,
   "metadata": {},
   "outputs": [],
   "source": [
    "# ------------------------------------------------------- #\n",
    "# Dicionário utilizado em 'cota_dados';\n",
    "# AMPLA CONCORRENCIA - Sem cota;\n",
    "# RACIAL - Candidatos autodeclarados pretos, pardos ou indígenas que tenham cursado integralmente o ensino médio em escolas públicas;\n",
    "# BAIXA RENDA - Candidatos com renda familiar bruta per capita igual ou inferior a 1,5 salário mínimo que tenham cursado integralmente o ensino médio em escolas públicas;\n",
    "# DEFICIENTE - Candidatos com deficiência (sem considerar raça) e candidatos com deficiência autodeclarados pretos, pardos ou indígenas que tenham cursado integralmente o ensino médio em escolas públicas.\n",
    "\n",
    "cotas = {'AMPLA CONCORRENCIA': ['A0'],\n",
    "        'RACIAL': ['L6','L2'],\n",
    "        'BAIXA RENDA': ['L1'], \n",
    "        'DEFICIENTE': ['L13','L9','L14','L10'], \n",
    "        'PUBLICA': ['L5']}\n",
    "# ------------------------------------------------------- #"
   ]
  },
  {
   "cell_type": "code",
   "execution_count": 5,
   "metadata": {},
   "outputs": [],
   "source": [
    "# ------------------------------------------------------- #\n",
    "# Dicionário utilizado em 'Idade_dados', 'cota_dados' e 'Quantidade_dados';\n",
    "# Padronizou a cor dos dados F (feminino) e M (masculino) nas visualizações de dados;\n",
    "\n",
    "sexo_palette = {\"M\":\"blue\", \"F\":\"red\"}\n",
    "# ------------------------------------------------------- #"
   ]
  }
 ],
 "metadata": {
  "colab": {
   "collapsed_sections": [],
   "provenance": []
  },
  "kernelspec": {
   "display_name": "Python 3 (ipykernel)",
   "language": "python",
   "name": "python3"
  },
  "language_info": {
   "codemirror_mode": {
    "name": "ipython",
    "version": 3
   },
   "file_extension": ".py",
   "mimetype": "text/x-python",
   "name": "python",
   "nbconvert_exporter": "python",
   "pygments_lexer": "ipython3",
   "version": "3.9.13"
  },
  "vscode": {
   "interpreter": {
    "hash": "86acdf75a508cfa60e075b0d9385d163a56afbcdebb723ce6883e07378b3134e"
   }
  }
 },
 "nbformat": 4,
 "nbformat_minor": 1
}
